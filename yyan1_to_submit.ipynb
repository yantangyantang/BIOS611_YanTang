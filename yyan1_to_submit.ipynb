{
 "cells": [
  {
   "cell_type": "markdown",
   "metadata": {},
   "source": [
    "# Crashes Involving Cyclists in Raleigh"
   ]
  },
  {
   "cell_type": "markdown",
   "metadata": {},
   "source": [
    "## Why this topic?"
   ]
  },
  {
   "cell_type": "markdown",
   "metadata": {},
   "source": [
    "This topic was chosen because I enjoy riding bicycle a lot. However Chapel Hill seems to be more hilly and I usually visit Raleigh on weekend so this came up to my mind to find out whether it would be a good idea to do bike riding in Raleigh. As we would have assumed, when a crash occurs between a vehicle and a bike, it’s the cyclist who is most likely to be injured. Therefore, it’s only natural to want to get a clearer picture on facts about bicycle safety in Raleigh before putting action into it. Also I’m curious about the possible correlation between sun glares and the likelihood of cyclist crash occurrence."
   ]
  },
  {
   "cell_type": "markdown",
   "metadata": {},
   "source": [
    "## About this dataset"
   ]
  },
  {
   "cell_type": "markdown",
   "metadata": {},
   "source": [
    "All the analysis are based on 'Dataset of Crashes Involving Cyclists' from Raleigh's Open Dataset.\n",
    "\n",
    "Dataset link: https://data-ral.opendata.arcgis.com/datasets/crashes-involving-cyclists/explore?location=35.797487%2C-78.624284%2C10.72\n",
    "\n",
    "Click on the above link to access ‘Crashes Involving Cyclists’ on Raleigh Open data website. Click on the ‘download’ button on the left then select download as ‘csv’ file.\n",
    "\n",
    "Columns used (column name/column):\n",
    "DateOfCrash/E, LocationRelationToRoad/G, TrafficControlType/V, Crash_Date_Day/AA, Crash_Date_DOW/AB, Crash_Date_Hour/AD, Crash_Date_Month_Num/AF, Crash_Date_Year/AG, killed/AN, type_a_injury/AO, type_b_injury/AP, type_c_injury/AQ, no_injury/AR, injury_unknown/AS, LocationLatitude/AT, LocationLongitude/AU"
   ]
  },
  {
   "cell_type": "markdown",
   "metadata": {},
   "source": [
    "## About the Data Analysis and Visualization"
   ]
  },
  {
   "cell_type": "markdown",
   "metadata": {},
   "source": [
    "This data-set only has partial data for year 2015 and year 2021, thus year 2015 and 2021 are excluded from analysis in this report due to incomplete coverage.\n",
    "All data analysis and visualization are conducted using Python."
   ]
  },
  {
   "cell_type": "markdown",
   "metadata": {},
   "source": [
    "## The expected outcomes"
   ]
  },
  {
   "cell_type": "markdown",
   "metadata": {},
   "source": [
    "1.Trend of Crash Occurrence in Raleigh over the years and what information could be inferred from the trend;\n",
    "\n",
    "2.Crash vs. Traffic Control Type - Is crash rate is relevant to traffic control type;\n",
    "\n",
    "3.Crash Severity & Injury Levels - How bad are the crashes involving cyclists in Raleigh? What are fatality rate and the injury levels?\n",
    "\n",
    "4.Crash vs. Location to Road - Where is the safer part on the road for the cyclist；\n",
    "\n",
    "5.Crash Heat-map - Where do most of the crashes take place? What information could be inferred from the geographical locations；\n",
    "\n",
    "6.Crash vs. Time of the day - when do more crashes happen in the day and what can be inferred."
   ]
  },
  {
   "cell_type": "markdown",
   "metadata": {},
   "source": [
    "## Analysis and Figures"
   ]
  },
  {
   "cell_type": "markdown",
   "metadata": {},
   "source": [
    "To do any data analyzing with Python the first step is to read the source data, data cleaning, data normalization, data analysis and data visualization.\n",
    "In this project, the following packages are used to support the above data processing phases:\n",
    "Pandas, Seaborn, Datetime, Folium, Matplotlib.pyplot, numpy, Astral and Astral.sun"
   ]
  },
  {
   "cell_type": "code",
   "execution_count": 1,
   "metadata": {},
   "outputs": [
    {
     "data": {
      "text/html": [
       "<div>\n",
       "<style scoped>\n",
       "    .dataframe tbody tr th:only-of-type {\n",
       "        vertical-align: middle;\n",
       "    }\n",
       "\n",
       "    .dataframe tbody tr th {\n",
       "        vertical-align: top;\n",
       "    }\n",
       "\n",
       "    .dataframe thead th {\n",
       "        text-align: right;\n",
       "    }\n",
       "</style>\n",
       "<table border=\"1\" class=\"dataframe\">\n",
       "  <thead>\n",
       "    <tr style=\"text-align: right;\">\n",
       "      <th></th>\n",
       "      <th>X</th>\n",
       "      <th>Y</th>\n",
       "      <th>OBJECTID</th>\n",
       "      <th>key_crash</th>\n",
       "      <th>DateOfCrash</th>\n",
       "      <th>LocalUse</th>\n",
       "      <th>LocationRelationToRoad</th>\n",
       "      <th>LocationInNearIndicator</th>\n",
       "      <th>LocationCity</th>\n",
       "      <th>LocationCounty</th>\n",
       "      <th>...</th>\n",
       "      <th>other_person_type</th>\n",
       "      <th>unknown_person_type</th>\n",
       "      <th>killed</th>\n",
       "      <th>type_a_injury</th>\n",
       "      <th>type_b_injury</th>\n",
       "      <th>type_c_injury</th>\n",
       "      <th>no_injury</th>\n",
       "      <th>injury_unknown</th>\n",
       "      <th>LocationLatitude</th>\n",
       "      <th>LocationLongitude</th>\n",
       "    </tr>\n",
       "  </thead>\n",
       "  <tbody>\n",
       "    <tr>\n",
       "      <th>70</th>\n",
       "      <td>-78.6730</td>\n",
       "      <td>35.7912</td>\n",
       "      <td>24441</td>\n",
       "      <td>146665</td>\n",
       "      <td>2016/01/07 04:36:00+00</td>\n",
       "      <td>P16001025</td>\n",
       "      <td>On Roadway (Surface) / Off Roadway</td>\n",
       "      <td>In</td>\n",
       "      <td>RALEIGH</td>\n",
       "      <td>Wake</td>\n",
       "      <td>...</td>\n",
       "      <td>0.0</td>\n",
       "      <td>0</td>\n",
       "      <td>0.0</td>\n",
       "      <td>0.0</td>\n",
       "      <td>0</td>\n",
       "      <td>1</td>\n",
       "      <td>1</td>\n",
       "      <td>0</td>\n",
       "      <td>35.7912</td>\n",
       "      <td>-78.6730</td>\n",
       "    </tr>\n",
       "    <tr>\n",
       "      <th>71</th>\n",
       "      <td>-78.6717</td>\n",
       "      <td>35.7886</td>\n",
       "      <td>24443</td>\n",
       "      <td>146667</td>\n",
       "      <td>2016/01/07 06:20:00+00</td>\n",
       "      <td>P16001054</td>\n",
       "      <td>On Roadway (Surface) / Off Roadway</td>\n",
       "      <td>In</td>\n",
       "      <td>RALEIGH</td>\n",
       "      <td>Wake</td>\n",
       "      <td>...</td>\n",
       "      <td>0.0</td>\n",
       "      <td>0</td>\n",
       "      <td>0.0</td>\n",
       "      <td>0.0</td>\n",
       "      <td>0</td>\n",
       "      <td>0</td>\n",
       "      <td>2</td>\n",
       "      <td>0</td>\n",
       "      <td>35.7886</td>\n",
       "      <td>-78.6717</td>\n",
       "    </tr>\n",
       "    <tr>\n",
       "      <th>72</th>\n",
       "      <td>-78.6706</td>\n",
       "      <td>35.7883</td>\n",
       "      <td>24672</td>\n",
       "      <td>146903</td>\n",
       "      <td>2016/01/11 00:01:00+00</td>\n",
       "      <td>P16001748</td>\n",
       "      <td>On Roadway (Surface) / Off Roadway</td>\n",
       "      <td>In</td>\n",
       "      <td>RALEIGH</td>\n",
       "      <td>Wake</td>\n",
       "      <td>...</td>\n",
       "      <td>0.0</td>\n",
       "      <td>0</td>\n",
       "      <td>0.0</td>\n",
       "      <td>0.0</td>\n",
       "      <td>0</td>\n",
       "      <td>0</td>\n",
       "      <td>3</td>\n",
       "      <td>0</td>\n",
       "      <td>35.7883</td>\n",
       "      <td>-78.6706</td>\n",
       "    </tr>\n",
       "    <tr>\n",
       "      <th>73</th>\n",
       "      <td>-78.6417</td>\n",
       "      <td>35.7805</td>\n",
       "      <td>24893</td>\n",
       "      <td>147125</td>\n",
       "      <td>2016/01/14 03:18:00+00</td>\n",
       "      <td>P16002347</td>\n",
       "      <td>On Roadway (Surface) / Off Roadway</td>\n",
       "      <td>In</td>\n",
       "      <td>RALEIGH</td>\n",
       "      <td>Wake</td>\n",
       "      <td>...</td>\n",
       "      <td>0.0</td>\n",
       "      <td>0</td>\n",
       "      <td>0.0</td>\n",
       "      <td>0.0</td>\n",
       "      <td>0</td>\n",
       "      <td>1</td>\n",
       "      <td>1</td>\n",
       "      <td>0</td>\n",
       "      <td>35.7805</td>\n",
       "      <td>-78.6417</td>\n",
       "    </tr>\n",
       "    <tr>\n",
       "      <th>74</th>\n",
       "      <td>-78.6872</td>\n",
       "      <td>35.7843</td>\n",
       "      <td>25892</td>\n",
       "      <td>148133</td>\n",
       "      <td>2016/01/30 21:15:00+00</td>\n",
       "      <td>P16005326</td>\n",
       "      <td>Outside Trafficway</td>\n",
       "      <td>In</td>\n",
       "      <td>RALEIGH</td>\n",
       "      <td>Wake</td>\n",
       "      <td>...</td>\n",
       "      <td>0.0</td>\n",
       "      <td>0</td>\n",
       "      <td>0.0</td>\n",
       "      <td>0.0</td>\n",
       "      <td>0</td>\n",
       "      <td>0</td>\n",
       "      <td>2</td>\n",
       "      <td>0</td>\n",
       "      <td>35.7843</td>\n",
       "      <td>-78.6872</td>\n",
       "    </tr>\n",
       "  </tbody>\n",
       "</table>\n",
       "<p>5 rows × 47 columns</p>\n",
       "</div>"
      ],
      "text/plain": [
       "          X        Y  OBJECTID  key_crash             DateOfCrash   LocalUse  \\\n",
       "70 -78.6730  35.7912     24441     146665  2016/01/07 04:36:00+00  P16001025   \n",
       "71 -78.6717  35.7886     24443     146667  2016/01/07 06:20:00+00  P16001054   \n",
       "72 -78.6706  35.7883     24672     146903  2016/01/11 00:01:00+00  P16001748   \n",
       "73 -78.6417  35.7805     24893     147125  2016/01/14 03:18:00+00  P16002347   \n",
       "74 -78.6872  35.7843     25892     148133  2016/01/30 21:15:00+00  P16005326   \n",
       "\n",
       "                LocationRelationToRoad LocationInNearIndicator LocationCity  \\\n",
       "70  On Roadway (Surface) / Off Roadway                      In      RALEIGH   \n",
       "71  On Roadway (Surface) / Off Roadway                      In      RALEIGH   \n",
       "72  On Roadway (Surface) / Off Roadway                      In      RALEIGH   \n",
       "73  On Roadway (Surface) / Off Roadway                      In      RALEIGH   \n",
       "74                  Outside Trafficway                      In      RALEIGH   \n",
       "\n",
       "   LocationCounty  ... other_person_type  unknown_person_type killed  \\\n",
       "70           Wake  ...               0.0                    0    0.0   \n",
       "71           Wake  ...               0.0                    0    0.0   \n",
       "72           Wake  ...               0.0                    0    0.0   \n",
       "73           Wake  ...               0.0                    0    0.0   \n",
       "74           Wake  ...               0.0                    0    0.0   \n",
       "\n",
       "   type_a_injury type_b_injury type_c_injury no_injury injury_unknown  \\\n",
       "70           0.0             0             1         1              0   \n",
       "71           0.0             0             0         2              0   \n",
       "72           0.0             0             0         3              0   \n",
       "73           0.0             0             1         1              0   \n",
       "74           0.0             0             0         2              0   \n",
       "\n",
       "   LocationLatitude LocationLongitude  \n",
       "70          35.7912          -78.6730  \n",
       "71          35.7886          -78.6717  \n",
       "72          35.7883          -78.6706  \n",
       "73          35.7805          -78.6417  \n",
       "74          35.7843          -78.6872  \n",
       "\n",
       "[5 rows x 47 columns]"
      ]
     },
     "execution_count": 1,
     "metadata": {},
     "output_type": "execute_result"
    }
   ],
   "source": [
    "import pandas as pd\n",
    "import seaborn as sns\n",
    "import datetime\n",
    "import folium\n",
    "import matplotlib.pyplot as plt\n",
    "import numpy as np\n",
    "import os\n",
    "\n",
    "plt.rcParams['figure.figsize'] = [10, 5]\n",
    "\n",
    "Crash = pd.read_csv('Crashes_Involving_Cyclists.csv')\n",
    "#Crash.head()\n",
    "pd.reset_option(\"max_columns\", 55)\n",
    "Crash.head()\n",
    "#excluding 2015 & 2021 data\n",
    "Crash_cleaned = Crash[(Crash['Crash_Date_Year'] != 2015) & (Crash['Crash_Date_Year'] != 2021)]\n",
    "Crash_cleaned.head()"
   ]
  },
  {
   "cell_type": "markdown",
   "metadata": {},
   "source": [
    "### 1. Crash occurrence trend per month, compared by year"
   ]
  },
  {
   "cell_type": "markdown",
   "metadata": {},
   "source": [
    "The idea is to have a line plot that indicates the trend of the crashes over the years (2016-2020), and it also shows the monthly figures.\n",
    "To make the plot more reader-friendly, the color of the lines are set to be from light color to dark color based on year. \n",
    "Outcomes:\n",
    "- The overall trend of crash concurrence went downhill on a yearly basis \n",
    "- Autumn seems to be the most dangerous season for cycling since the number of crashes peaked in September and October for most of the years. \n",
    "- There’s this significant drop on count of crashes with the darkest color line, representing 2020, which could be explained by the outburst of the pandemic.\n",
    "\n",
    "![Crashes vs Time](./crashes_vs_time.png)"
   ]
  },
  {
   "cell_type": "markdown",
   "metadata": {},
   "source": [
    "### 2. Crashes vs. Traffic Control Type"
   ]
  },
  {
   "cell_type": "markdown",
   "metadata": {},
   "source": [
    "2.1 Crash occurrence at different traffic control type\n",
    "The purpose of analyzing traffic control type is to compare the likelihood of crashes at each type of Traffic control intersections.\n",
    "The result is assumable: intersection with no control present seems to be more dangerous than the others. \n",
    "However, there’s one limitation of the data-set which makes it difficult jump to the conclusion - missing information about the total umber of each Control type intersection in Raleigh. The result is most ideally concluded by the percentage, i.e., comparison of each traffic control type on (count of crashes at each traffic control type)/(number of each traffic control type)"
   ]
  },
  {
   "cell_type": "code",
   "execution_count": 3,
   "metadata": {},
   "outputs": [
    {
     "data": {
      "image/png": "[encoded data removed]",
      "text/plain": [
       "<Figure size 720x360 with 1 Axes>"
      ]
     },
     "metadata": {
      "needs_background": "light"
     },
     "output_type": "display_data"
    }
   ],
   "source": [
    "count_controltype=Crash_cleaned['TrafficControlType'].value_counts()\n",
    "\n",
    "controltype = count_controltype.dropna()\n",
    "\n",
    "# controltype\n",
    "\n",
    "figb = controltype.plot.bar(x = 'Traffic Control Type', color=('turquoise'), edgecolor='gold')\n",
    "\n",
    "plt.xticks(rotation=70)\n",
    "\n",
    "figb.set_facecolor('lightgrey')\n",
    "\n"
   ]
  },
  {
   "cell_type": "markdown",
   "metadata": {},
   "source": [
    "2.2 Distribution of Accumulated contribution per Traffic Control Type\n",
    "Analysis: \n",
    "- For the year of 2016 to 2019, we see that biggest distributors matches with previous graph\n",
    "- Year 2020, an increase in all other distributors, and a drop with ‘No control present’\n",
    "Since in year 2020, total crash number dropped tremendously, one hypothesis would be in 2020 the city has set up signals or signs at many intersections which used to be ‘No control present’ to improve the traffic safety at these intersections"
   ]
  },
  {
   "cell_type": "code",
   "execution_count": 4,
   "metadata": {},
   "outputs": [
    {
     "data": {
      "text/plain": [
       "([0, 1, 2, 3, 4, 5, 6, 7, 8],\n",
       " [Text(0, 0, 'No control present'),\n",
       "  Text(1, 0, 'Stop and go signal'),\n",
       "  Text(2, 0, 'Stop sign'),\n",
       "  Text(3, 0, 'Double yellow line (no passing zone)'),\n",
       "  Text(4, 0, 'Other*'),\n",
       "  Text(5, 0, 'Yied sign'),\n",
       "  Text(6, 0, 'Flashing stop and go signal'),\n",
       "  Text(7, 0, 'Flashing signal without stop sign'),\n",
       "  Text(8, 0, 'Warning sign')])"
      ]
     },
     "execution_count": 4,
     "metadata": {},
     "output_type": "execute_result"
    },
    {
     "data": {
      "image/png": "[encoded data removed]",
      "text/plain": [
       "<Figure size 451.625x360 with 1 Axes>"
      ]
     },
     "metadata": {
      "needs_background": "light"
     },
     "output_type": "display_data"
    }
   ],
   "source": [
    "sns.displot(Crash_cleaned, x=\"TrafficControlType\", hue=\"Crash_Date_Year\", kind=\"ecdf\", color = 'dark2')\n",
    "plt.xticks(rotation=75)"
   ]
  },
  {
   "cell_type": "markdown",
   "metadata": {},
   "source": [
    "### 3. Crash Severity & Injury Levels"
   ]
  },
  {
   "cell_type": "markdown",
   "metadata": {},
   "source": [
    "Crash Severity measurement is greatly dependent on injury levels\n",
    "Injury is categorized as 5 levels: Killed; Type a Injury (severely injured); Type b Injury (injured); Type c Injury (mild injury); No Injury; Injury Unknown;\n",
    "With only 3 killed cases through 2016 to 2020, the fatality rate is extremely low (0.7%). Also count of severely injured is pretty little (4.2%). No one was injured in almost half of the crashes. Based on these data, it’s reasonable to believe that, to some extend, Raleigh is a friendly and safe city for bikers."
   ]
  },
  {
   "cell_type": "code",
   "execution_count": 5,
   "metadata": {},
   "outputs": [
    {
     "name": "stdout",
     "output_type": "stream",
     "text": [
      "killed: 3\n",
      "type_a_injury: 19\n",
      "type_b_injury: 128\n",
      "type_c_injury: 94\n",
      "no_injury: 194\n",
      "injury unknown: 12\n"
     ]
    }
   ],
   "source": [
    "#get the count of each injury level\n",
    "killed = Crash_cleaned['killed']\n",
    "type_a_injury = Crash_cleaned['type_a_injury']\n",
    "type_b_injury = Crash_cleaned['type_b_injury']\n",
    "type_c_injury = Crash_cleaned['type_c_injury']\n",
    "no_injury = Crash_cleaned['no_injury']\n",
    "injury_unknown = Crash_cleaned['injury_unknown']\n",
    "\n",
    "killed_no = 0\n",
    "for k in killed:\n",
    "    if k == 1:\n",
    "        killed_no = killed_no +1\n",
    "    else:\n",
    "        killed_no = killed_no + 0\n",
    "print('killed:', killed_no)\n",
    "        \n",
    "type_a = 0\n",
    "for a in type_a_injury:\n",
    "    if a == 1:\n",
    "        type_a = type_a +1\n",
    "    else:\n",
    "        type_a = type_a + 0\n",
    "print('type_a_injury:', type_a)\n",
    "\n",
    "type_b = 0\n",
    "for b in type_b_injury:\n",
    "    if b == 1:\n",
    "        type_b = type_b +1\n",
    "    else:\n",
    "        type_b = type_b + 0\n",
    "print('type_b_injury:', type_b)\n",
    "\n",
    "type_c = 0\n",
    "for c in type_c_injury:\n",
    "    if c == 1:\n",
    "        type_c = type_c +1\n",
    "    else:\n",
    "        type_c = type_c + 0\n",
    "print('type_c_injury:', type_c)\n",
    "\n",
    "none_injury = 0\n",
    "for n in no_injury:\n",
    "    if n == 1:\n",
    "        none_injury = none_injury +1\n",
    "    else:\n",
    "        none_injury = none_injury + 0\n",
    "print('no_injury:', none_injury)\n",
    "\n",
    "unkown = 0\n",
    "for u in injury_unknown:\n",
    "    if u == 1:\n",
    "        unkown = unkown +1\n",
    "    else:\n",
    "        unkown = unkown + 0\n",
    "print('injury unknown:', unkown)"
   ]
  },
  {
   "cell_type": "code",
   "execution_count": 6,
   "metadata": {},
   "outputs": [
    {
     "data": {
      "image/png": "[encoded data removed]",
      "text/plain": [
       "<Figure size 720x504 with 1 Axes>"
      ]
     },
     "metadata": {},
     "output_type": "display_data"
    }
   ],
   "source": [
    "#injury analysis - pie chart\n",
    "  \n",
    "# Creating dataset\n",
    "Injury_Level = ['killed', 'type_a_injury', 'type_b_injury', \n",
    "        'type_c_injury', 'injury unknown', 'no_injury']\n",
    "  \n",
    "data_injury = [3, 19, 128, 94, 12, 194]\n",
    "  \n",
    "  \n",
    "# Creating explode data\n",
    "explode = (0.1, 0.0, 0.2, 0.3, 0.0, 0.0)\n",
    "  \n",
    "# Creating color parameters\n",
    "colors = ( \"red\", \"orchid\", \"yellow\",\n",
    "          \"coral\", \"beige\", \"turquoise\")\n",
    "  \n",
    "# Wedge properties\n",
    "wp = { 'linewidth' : 1, 'edgecolor' : \"green\" }\n",
    "  \n",
    "# Creating autocpt arguments\n",
    "def func(pct, allvalues):\n",
    "    absolute = int(pct / 100.*np.sum(allvalues))\n",
    "    return \"{:.1f}%\".format(pct, absolute)\n",
    "  \n",
    "# Creating plot\n",
    "fig, ax = plt.subplots(figsize =(10, 7))\n",
    "wedges, texts, autotexts = ax.pie(data_injury, \n",
    "                                  autopct = lambda pct: func(pct, data_injury),\n",
    "                                  explode = explode, \n",
    "                                  labels = Injury_Level,\n",
    "                                  shadow = True,\n",
    "                                  colors = colors,\n",
    "                                  startangle = 90,\n",
    "                                  wedgeprops = wp,\n",
    "                                  textprops = dict(color =\"black\"))\n",
    "  \n",
    "# Adding legend\n",
    "ax.legend(wedges, Injury_Level,\n",
    "          title =\"Injury Level\",\n",
    "          loc =\"center right\",\n",
    "          bbox_to_anchor =(1, 0, 0.5, 1))\n",
    "  \n",
    "plt.setp(autotexts, size = 8, weight =\"bold\")\n",
    "ax.set_title(\"Injury Analysis\")\n",
    "\n",
    "# show plot\n",
    "plt.show()"
   ]
  },
  {
   "cell_type": "markdown",
   "metadata": {},
   "source": [
    "### 4. Crashes vs. Location to Road"
   ]
  },
  {
   "cell_type": "markdown",
   "metadata": {},
   "source": [
    "Most accidents happen on or off Roadway and the occurrence of such kind is predictable"
   ]
  },
  {
   "cell_type": "markdown",
   "metadata": {},
   "source": [
    "#### Limitation of the data-set"
   ]
  },
  {
   "cell_type": "markdown",
   "metadata": {},
   "source": [
    "On Roadway and Off Roadway are combined together, there would for sure be more insight if these 2 are separated as different categories."
   ]
  },
  {
   "cell_type": "code",
   "execution_count": 7,
   "metadata": {},
   "outputs": [
    {
     "data": {
      "text/plain": [
       "([0, 1, 2, 3, 4, 5, 6, 7, 8, 9, 10, 11],\n",
       " [Text(0, 0, 'January'),\n",
       "  Text(1, 0, 'February'),\n",
       "  Text(2, 0, 'March'),\n",
       "  Text(3, 0, 'April'),\n",
       "  Text(4, 0, 'May'),\n",
       "  Text(5, 0, 'June'),\n",
       "  Text(6, 0, 'July'),\n",
       "  Text(7, 0, 'August'),\n",
       "  Text(8, 0, 'September'),\n",
       "  Text(9, 0, 'October'),\n",
       "  Text(10, 0, 'November'),\n",
       "  Text(11, 0, 'December')])"
      ]
     },
     "execution_count": 7,
     "metadata": {},
     "output_type": "execute_result"
    },
    {
     "data": {
      "image/png": "[encoded data removed]",
      "text/plain": [
       "<Figure size 760x360 with 1 Axes>"
      ]
     },
     "metadata": {
      "needs_background": "light"
     },
     "output_type": "display_data"
    }
   ],
   "source": [
    "sns.displot(x='Crash_Date_Month', hue='LocationRelationToRoad', multiple=\"stack\", alpha=0.5, aspect = 1.5, data=Crash_cleaned)\n",
    "plt.xticks(rotation=45)\n",
    "# plt.tight_layout(h_pad=2)\n",
    "# plt.legend(loc=\"center right\", bbox_to_anchor=(0.5, 1.15), ncol=2)"
   ]
  },
  {
   "cell_type": "markdown",
   "metadata": {},
   "source": [
    "### 5. Heatmap"
   ]
  },
  {
   "cell_type": "markdown",
   "metadata": {},
   "source": [
    "#### 5.1 Heat map for 2016 to 2020"
   ]
  },
  {
   "cell_type": "markdown",
   "metadata": {},
   "source": [
    "Goal is to have an understanding of the geographic locations where crashes happen more frequently. Heat map was chosen to achieve that goal. \n",
    "The nature of Heat Map makes it not really specific when we look at year 2016 to 2020 altogether, though we can tell that the crashes take place more in the downtown area, where the population is more dens. Other than that, not much can be dug here. "
   ]
  },
  {
   "cell_type": "code",
   "execution_count": 8,
   "metadata": {},
   "outputs": [
    {
     "data": {
      "text/plain": [
       "2016    73\n",
       "2017    67\n",
       "2018    67\n",
       "2019    55\n",
       "2020    39\n",
       "Name: Crash_Date_Year, dtype: int64"
      ]
     },
     "execution_count": 8,
     "metadata": {},
     "output_type": "execute_result"
    }
   ],
   "source": [
    "Crash_yearcount=Crash_cleaned['Crash_Date_Year'].value_counts()\n",
    "\n",
    "Crash_yearcount"
   ]
  },
  {
   "cell_type": "code",
   "execution_count": 9,
   "metadata": {},
   "outputs": [
    {
     "data": {
      "text/html": [
       "<div style=\"width:100%;\"><div style=\"position:relative;width:100%;height:0;padding-bottom:60%;\"><span style=\"color:#565656\">Make this Notebook Trusted to load map: File -> Trust Notebook</span><iframe src=\"about:blank\" style=\"position:absolute;width:100%;height:100%;left:0;top:0;border:none !important;\" data-html=%3C%21DOCTYPE%20html%3E%0A%3Chead%3E%20%20%20%20%0A%20%20%20%20%3Cmeta%20http-equiv%3D%22content-type%22%20content%3D%22text/html%3B%20charset%3DUTF-8%22%20/%3E%0A%20%20%20%20%0A%20%20%20%20%20%20%20%20%3Cscript%3E%0A%20%20%20%20%20%20%20%20%20%20%20%20L_NO_TOUCH%20%3D%20false%3B%0A%20%20%20%20%20%20%20%20%20%20%20%20L_DISABLE_3D%20%3D%20false%3B%0A%20%20%20%20%20%20%20%20%3C/script%3E%0A%20%20%20%20%0A%20%20%20%20%3Cstyle%3Ehtml%2C%20body%20%7Bwidth%3A%20100%25%3Bheight%3A%20100%25%3Bmargin%3A%200%3Bpadding%3A%200%3B%7D%3C/style%3E%0A%20%20%20%20%3Cstyle%3E%23map%20%7Bposition%3Aabsolute%3Btop%3A0%3Bbottom%3A0%3Bright%3A0%3Bleft%3A0%3B%7D%3C/style%3E%0A%20%20%20%20%3Cscript%20src%3D%22https%3A//cdn.jsdelivr.net/npm/leaflet%401.6.0/dist/leaflet.js%22%3E%3C/script%3E%0A%20%20%20%20%3Cscript%20src%3D%22https%3A//code.jquery.com/jquery-1.12.4.min.js%22%3E%3C/script%3E%0A%20%20%20%20%3Cscript%20src%3D%22https%3A//maxcdn.bootstrapcdn.com/bootstrap/3.2.0/js/bootstrap.min.js%22%3E%3C/script%3E%0A%20%20%20%20%3Cscript%20src%3D%22https%3A//cdnjs.cloudflare.com/ajax/libs/Leaflet.awesome-markers/2.0.2/leaflet.awesome-markers.js%22%3E%3C/script%3E%0A%20%20%20%20%3Clink%20rel%3D%22stylesheet%22%20href%3D%22https%3A//cdn.jsdelivr.net/npm/leaflet%401.6.0/dist/leaflet.css%22/%3E%0A%20%20%20%20%3Clink%20rel%3D%22stylesheet%22%20href%3D%22https%3A//maxcdn.bootstrapcdn.com/bootstrap/3.2.0/css/bootstrap.min.css%22/%3E%0A%20%20%20%20%3Clink%20rel%3D%22stylesheet%22%20href%3D%22https%3A//maxcdn.bootstrapcdn.com/bootstrap/3.2.0/css/bootstrap-theme.min.css%22/%3E%0A%20%20%20%20%3Clink%20rel%3D%22stylesheet%22%20href%3D%22https%3A//maxcdn.bootstrapcdn.com/font-awesome/4.6.3/css/font-awesome.min.css%22/%3E%0A%20%20%20%20%3Clink%20rel%3D%22stylesheet%22%20href%3D%22https%3A//cdnjs.cloudflare.com/ajax/libs/Leaflet.awesome-markers/2.0.2/leaflet.awesome-markers.css%22/%3E%0A%20%20%20%20%3Clink%20rel%3D%22stylesheet%22%20href%3D%22https%3A//cdn.jsdelivr.net/gh/python-visualization/folium/folium/templates/leaflet.awesome.rotate.min.css%22/%3E%0A%20%20%20%20%0A%20%20%20%20%20%20%20%20%20%20%20%20%3Cmeta%20name%3D%22viewport%22%20content%3D%22width%3Ddevice-width%2C%0A%20%20%20%20%20%20%20%20%20%20%20%20%20%20%20%20initial-scale%3D1.0%2C%20maximum-scale%3D1.0%2C%20user-scalable%3Dno%22%20/%3E%0A%20%20%20%20%20%20%20%20%20%20%20%20%3Cstyle%3E%0A%20%20%20%20%20%20%20%20%20%20%20%20%20%20%20%20%23map_fc4b480e8a8c4d71a790babbc115cce0%20%7B%0A%20%20%20%20%20%20%20%20%20%20%20%20%20%20%20%20%20%20%20%20position%3A%20relative%3B%0A%20%20%20%20%20%20%20%20%20%20%20%20%20%20%20%20%20%20%20%20width%3A%20100.0%25%3B%0A%20%20%20%20%20%20%20%20%20%20%20%20%20%20%20%20%20%20%20%20height%3A%20100.0%25%3B%0A%20%20%20%20%20%20%20%20%20%20%20%20%20%20%20%20%20%20%20%20left%3A%200.0%25%3B%0A%20%20%20%20%20%20%20%20%20%20%20%20%20%20%20%20%20%20%20%20top%3A%200.0%25%3B%0A%20%20%20%20%20%20%20%20%20%20%20%20%20%20%20%20%7D%0A%20%20%20%20%20%20%20%20%20%20%20%20%3C/style%3E%0A%20%20%20%20%20%20%20%20%0A%20%20%20%20%3Cscript%20src%3D%22https%3A//cdn.jsdelivr.net/gh/python-visualization/folium%40master/folium/templates/leaflet_heat.min.js%22%3E%3C/script%3E%0A%3C/head%3E%0A%3Cbody%3E%20%20%20%20%0A%20%20%20%20%0A%20%20%20%20%20%20%20%20%20%20%20%20%3Cdiv%20class%3D%22folium-map%22%20id%3D%22map_fc4b480e8a8c4d71a790babbc115cce0%22%20%3E%3C/div%3E%0A%20%20%20%20%20%20%20%20%0A%3C/body%3E%0A%3Cscript%3E%20%20%20%20%0A%20%20%20%20%0A%20%20%20%20%20%20%20%20%20%20%20%20var%20map_fc4b480e8a8c4d71a790babbc115cce0%20%3D%20L.map%28%0A%20%20%20%20%20%20%20%20%20%20%20%20%20%20%20%20%22map_fc4b480e8a8c4d71a790babbc115cce0%22%2C%0A%20%20%20%20%20%20%20%20%20%20%20%20%20%20%20%20%7B%0A%20%20%20%20%20%20%20%20%20%20%20%20%20%20%20%20%20%20%20%20center%3A%20%5B35.787743%2C%20-78.64%5D%2C%0A%20%20%20%20%20%20%20%20%20%20%20%20%20%20%20%20%20%20%20%20crs%3A%20L.CRS.EPSG3857%2C%0A%20%20%20%20%20%20%20%20%20%20%20%20%20%20%20%20%20%20%20%20zoom%3A%2012.5%2C%0A%20%20%20%20%20%20%20%20%20%20%20%20%20%20%20%20%20%20%20%20zoomControl%3A%20true%2C%0A%20%20%20%20%20%20%20%20%20%20%20%20%20%20%20%20%20%20%20%20preferCanvas%3A%20false%2C%0A%20%20%20%20%20%20%20%20%20%20%20%20%20%20%20%20%7D%0A%20%20%20%20%20%20%20%20%20%20%20%20%29%3B%0A%0A%20%20%20%20%20%20%20%20%20%20%20%20%0A%0A%20%20%20%20%20%20%20%20%0A%20%20%20%20%0A%20%20%20%20%20%20%20%20%20%20%20%20var%20tile_layer_062df11d24d3447bbbb60b3c8a60bce6%20%3D%20L.tileLayer%28%0A%20%20%20%20%20%20%20%20%20%20%20%20%20%20%20%20%22https%3A//%7Bs%7D.tile.openstreetmap.org/%7Bz%7D/%7Bx%7D/%7By%7D.png%22%2C%0A%20%20%20%20%20%20%20%20%20%20%20%20%20%20%20%20%7B%22attribution%22%3A%20%22Data%20by%20%5Cu0026copy%3B%20%5Cu003ca%20href%3D%5C%22http%3A//openstreetmap.org%5C%22%5Cu003eOpenStreetMap%5Cu003c/a%5Cu003e%2C%20under%20%5Cu003ca%20href%3D%5C%22http%3A//www.openstreetmap.org/copyright%5C%22%5Cu003eODbL%5Cu003c/a%5Cu003e.%22%2C%20%22detectRetina%22%3A%20false%2C%20%22maxNativeZoom%22%3A%2018%2C%20%22maxZoom%22%3A%2018%2C%20%22minZoom%22%3A%200%2C%20%22noWrap%22%3A%20false%2C%20%22opacity%22%3A%201%2C%20%22subdomains%22%3A%20%22abc%22%2C%20%22tms%22%3A%20false%7D%0A%20%20%20%20%20%20%20%20%20%20%20%20%29.addTo%28map_fc4b480e8a8c4d71a790babbc115cce0%29%3B%0A%20%20%20%20%20%20%20%20%0A%20%20%20%20%0A%20%20%20%20%20%20%20%20%20%20%20%20var%20heat_map_4b6a3f7672fc494ba60beb44b18961c4%20%3D%20L.heatLayer%28%0A%20%20%20%20%20%20%20%20%20%20%20%20%20%20%20%20%5B%5B35.7911999998515%2C%20-78.6730000001867%5D%2C%20%5B35.7885999997738%2C%20-78.6716999996301%5D%2C%20%5B35.788300000345%2C%20-78.6705999999883%5D%2C%20%5B35.7805000003385%2C%20-78.6416999998439%5D%2C%20%5B35.7843000003209%2C%20-78.6871999995645%5D%2C%20%5B35.9125999999784%2C%20-78.781499999728%5D%2C%20%5B35.7779000000612%2C%20-78.6636999998667%5D%2C%20%5B35.9046000001465%2C%20-78.5880999999024%5D%2C%20%5B35.853799999664%2C%20-78.5730999995602%5D%2C%20%5B35.7920000001382%2C%20-78.7117000002434%5D%2C%20%5B35.7779999999623%2C%20-78.6430000004005%5D%2C%20%5B35.7885999997738%2C%20-78.6453000001416%5D%2C%20%5B35.7764999999007%2C%20-78.629000000141%5D%2C%20%5B35.7728000001344%2C%20-78.6404999997446%5D%2C%20%5B35.7798999996927%2C%20-78.6147999998649%5D%2C%20%5B35.7976000003218%2C%20-78.5756999997752%5D%2C%20%5B35.7617999999413%2C%20-78.6494999995906%5D%2C%20%5B35.8865000003629%2C%20-78.7364999995995%5D%2C%20%5B35.8346999998739%2C%20-78.6053000004266%5D%2C%20%5B35.7785999996427%2C%20-78.649200000015%5D%2C%20%5B35.7842000003282%2C%20-78.69440000016%5D%2C%20%5B35.8603999996588%2C%20-78.5817999998305%5D%2C%20%5B35.8529000000508%2C%20-78.6127999996995%5D%2C%20%5B35.7802000002172%2C%20-78.6176000000964%5D%2C%20%5B35.9641999998986%2C%20-78.5505999999451%5D%2C%20%5B35.7851999996955%2C%20-78.6471000002905%5D%2C%20%5B35.7741999998467%2C%20-78.7351999999411%5D%2C%20%5B35.7621000002318%2C%20-78.6948000001931%5D%2C%20%5B35.8160999996638%2C%20-78.5943999999743%5D%2C%20%5B35.809399999981%2C%20-78.6019999997046%5D%2C%20%5B35.7812999997426%2C%20-78.6432999999762%5D%2C%20%5B35.748099999781%2C%20-78.7415999995721%5D%2C%20%5B35.7851000001063%2C%20-78.720999999665%5D%2C%20%5B35.7799999999933%2C%20-78.6551999996129%5D%2C%20%5B35.7779999999623%2C%20-78.637999999987%5D%2C%20%5B35.8565999997864%2C%20-78.6714999996135%5D%2C%20%5B35.7819000000248%2C%20-78.6255000003007%5D%2C%20%5B35.7837999998279%2C%20-78.682499999625%5D%2C%20%5B35.7355000000307%2C%20-78.6500999996403%5D%2C%20%5B35.748099999781%2C%20-78.6064999996276%5D%2C%20%5B35.7881000000967%2C%20-78.6396000001193%5D%2C%20%5B35.9444000002661%2C%20-78.5554999999012%5D%2C%20%5B35.7769999996644%2C%20-78.6785000001925%5D%2C%20%5B35.8559000002897%2C%20-78.6569999997618%5D%2C%20%5B35.8095999997958%2C%20-78.5650999997968%5D%2C%20%5B35.809399999981%2C%20-78.5654999998299%5D%2C%20%5B35.7338000002524%2C%20-78.6406999997612%5D%2C%20%5B35.7842000003282%2C%20-78.6822000000493%5D%2C%20%5B35.7848999998217%2C%20-78.6489000004393%5D%2C%20%5B35.7747999997786%2C%20-78.6465999997999%5D%2C%20%5B35.7693000001653%2C%20-78.6351999997554%5D%2C%20%5B35.7931000003159%2C%20-78.5848000000786%5D%2C%20%5B35.7914000003139%2C%20-78.6628000002415%5D%2C%20%5B35.7837999998279%2C%20-78.6133999997491%5D%2C%20%5B35.9036000003261%2C%20-78.7578000000136%5D%2C%20%5B35.7791000000473%2C%20-78.6671999997071%5D%2C%20%5B35.7693999999489%2C%20-78.6483000003897%5D%2C%20%5B35.7688999997739%2C%20-78.5943999999743%5D%2C%20%5B35.7651999999169%2C%20-78.6942999997026%5D%2C%20%5B35.7902999999218%2C%20-78.6569999997618%5D%2C%20%5B35.7917999997286%2C%20-78.6813999999831%5D%2C%20%5B35.8832999998828%2C%20-78.7392000002719%5D%2C%20%5B35.7462999997361%2C%20-78.5860000001779%5D%2C%20%5B35.8949999998666%2C%20-78.6799999998674%5D%2C%20%5B35.788300000345%2C%20-78.6129000001569%5D%2C%20%5B35.7882000002838%2C%20-78.6418999998604%5D%2C%20%5B35.7536999996995%2C%20-78.6129000001569%5D%2C%20%5B35.7797000001716%2C%20-78.6235000001353%5D%2C%20%5B35.7406999997548%2C%20-78.6489000004393%5D%2C%20%5B35.7869999999369%2C%20-78.6871999995645%5D%2C%20%5B35.7859999998962%2C%20-78.7170000002325%5D%2C%20%5B35.7834999997714%2C%20-78.6565999997287%5D%2C%20%5B35.7834999997714%2C%20-78.6820999995919%5D%2C%20%5B35.8195000002447%2C%20-78.5876999998693%5D%2C%20%5B35.8199999997034%2C%20-78.5909999996931%5D%2C%20%5B35.7817999999279%2C%20-78.6583000003184%5D%2C%20%5B35.7865999996814%2C%20-78.6638999998833%5D%2C%20%5B35.7834999997714%2C%20-78.682499999625%5D%2C%20%5B35.9163999996779%2C%20-78.7374000001231%5D%2C%20%5B35.8030000000662%2C%20-78.7339999998419%5D%2C%20%5B35.7862499998106%2C%20-78.6466550000516%5D%2C%20%5B35.8842999999576%2C%20-78.5524000000939%5D%2C%20%5B35.8332999998812%2C%20-78.5603000002981%5D%2C%20%5B35.7644999997314%2C%20-78.6329999995735%5D%2C%20%5B35.7832999998334%2C%20-78.6879899995849%5D%2C%20%5B35.8162000003023%2C%20-78.5679000000284%5D%2C%20%5B35.7845200000078%2C%20-78.6944300002972%5D%2C%20%5B35.9479999998361%2C%20-78.5709999998356%5D%2C%20%5B35.7666000000302%2C%20-78.7001000001823%5D%2C%20%5B35.7972000002304%2C%20-78.5760999998083%5D%2C%20%5B35.7820999998413%2C%20-78.6271999999921%5D%2C%20%5B35.8949000003312%2C%20-78.6198000002784%5D%2C%20%5B35.8648000001417%2C%20-78.6373999999374%5D%2C%20%5B35.8165000000053%2C%20-78.5674000004362%5D%2C%20%5B35.8592999999594%2C%20-78.6174000000799%5D%2C%20%5B35.8098999996664%2C%20-78.5672999999788%5D%2C%20%5B35.88199999976%2C%20-78.6565000001696%5D%2C%20%5B35.7843000003209%2C%20-78.7068999998463%5D%2C%20%5B35.8279999997384%2C%20-78.5840000000125%5D%2C%20%5B35.7805300001425%2C%20-78.6433600002506%5D%2C%20%5B35.7549999999927%2C%20-78.6108000004323%5D%2C%20%5B35.7471999997432%2C%20-78.6151000003388%5D%2C%20%5B35.7675999999149%2C%20-78.6247999997936%5D%2C%20%5B35.7977000002121%2C%20-78.5560000003917%5D%2C%20%5B35.7979999998566%2C%20-78.5569999995761%5D%2C%20%5B35.9348000001659%2C%20-78.5766999998579%5D%2C%20%5B35.912260000253%2C%20-78.7817399999275%5D%2C%20%5B35.9130000003096%2C%20-78.5870000002606%5D%2C%20%5B35.7782699997229%2C%20-78.6392400002692%5D%2C%20%5B35.8468999998131%2C%20-78.6901999998126%5D%2C%20%5B35.7656599998711%2C%20-78.6297399999327%5D%2C%20%5B35.7710300002664%2C%20-78.6073499999224%5D%2C%20%5B35.8706400002642%2C%20-78.6638000003242%5D%2C%20%5B35.877099999729%2C%20-78.725800000062%5D%2C%20%5B35.7682000000792%2C%20-78.694099999686%5D%2C%20%5B35.8328999997159%2C%20-78.7113000002103%5D%2C%20%5B35.8757999997526%2C%20-78.5404999995589%5D%2C%20%5B35.7769999996644%2C%20-78.6403299998653%5D%2C%20%5B35.7807000000332%2C%20-78.6475000003235%5D%2C%20%5B35.7892999998666%2C%20-78.6752999999278%5D%2C%20%5B35.8406999996737%2C%20-78.6430999999596%5D%2C%20%5B35.8484000002013%2C%20-78.5990000003547%5D%2C%20%5B35.782500000151%2C%20-78.639899999695%5D%2C%20%5B35.8062000000121%2C%20-78.5646999997637%5D%2C%20%5B35.7779999999623%2C%20-78.6430000004005%5D%2C%20%5B35.7796000002225%2C%20-78.622300000036%5D%2C%20%5B35.7885999997738%2C%20-78.6487699998447%5D%2C%20%5B35.787800000238%2C%20-78.6133999997491%5D%2C%20%5B35.7486999997421%2C%20-78.7019999998903%5D%2C%20%5B35.8473000000209%2C%20-78.601799999688%5D%2C%20%5B35.8613000000382%2C%20-78.6192999997879%5D%2C%20%5B35.8489999996939%2C%20-78.5886000003929%5D%2C%20%5B35.8029000002901%2C%20-78.6579000002854%5D%2C%20%5B35.8521999999226%2C%20-78.644700000092%5D%2C%20%5B35.8770000001523%2C%20-78.6229999996447%5D%2C%20%5B35.88199999976%2C%20-78.7089999995709%5D%2C%20%5B35.8020000002831%2C%20-78.6239999997274%5D%2C%20%5B35.749499999702%2C%20-78.6316999999151%5D%2C%20%5B35.7881900003436%2C%20-78.7395700001678%5D%2C%20%5B35.8965000002972%2C%20-78.7252000000124%5D%2C%20%5B35.7834000002297%2C%20-78.6565000001696%5D%2C%20%5B35.8160999996638%2C%20-78.5933999998916%5D%2C%20%5B35.7886499999328%2C%20-78.6753099999736%5D%2C%20%5B35.7790000000722%2C%20-78.6190000002122%5D%2C%20%5B35.8647000003284%2C%20-78.716800000216%5D%2C%20%5B35.7872000000384%2C%20-78.6661000000652%5D%2C%20%5B35.7718000000347%2C%20-78.592799999842%5D%2C%20%5B35.8728199997036%2C%20-78.6223100000817%5D%2C%20%5B35.7755700002127%2C%20-78.6385899999909%5D%2C%20%5B35.745499999693%2C%20-78.6771999996358%5D%2C%20%5B35.787600000189%2C%20-78.7368999996326%5D%2C%20%5B35.787939999973%2C%20-78.6687999998394%5D%2C%20%5B35.8615000001099%2C%20-78.7099000000945%5D%2C%20%5B35.8500000001671%2C%20-78.6801000003248%5D%2C%20%5B35.7874999999757%2C%20-78.6669999996905%5D%2C%20%5B35.7928600001715%2C%20-78.6131400003564%5D%2C%20%5B35.8643900003239%2C%20-78.6199900002492%5D%2C%20%5B35.7790000000722%2C%20-78.6765999995862%5D%2C%20%5B35.796899999751%2C%20-78.6428999999431%5D%2C%20%5B35.8529000000508%2C%20-78.5992000003713%5D%2C%20%5B35.7320999999148%2C%20-78.541200000066%5D%2C%20%5B35.8424999998186%2C%20-78.6618000001588%5D%2C%20%5B35.7765900001631%2C%20-78.6828799995666%5D%2C%20%5B35.8354999997025%2C%20-78.5968000001728%5D%2C%20%5B35.9345999997357%2C%20-78.5762999998248%5D%2C%20%5B35.7693999999489%2C%20-78.6386999995957%5D%2C%20%5B35.8929200002589%2C%20-78.5910800000591%5D%2C%20%5B35.7770999999687%2C%20-78.6781999997185%5D%2C%20%5B35.7867000002983%2C%20-78.6520000002466%5D%2C%20%5B35.9250000001832%2C%20-78.5870000002606%5D%2C%20%5B35.7873999996366%2C%20-78.6667000001149%5D%2C%20%5B35.7728000001344%2C%20-78.6058999995779%5D%2C%20%5B35.8605999998172%2C%20-78.5823000003211%5D%2C%20%5B35.7753000000291%2C%20-78.6324999999813%5D%2C%20%5B35.7640000000969%2C%20-78.6412000002517%5D%2C%20%5B35.7740100001027%2C%20-78.6326199996319%5D%2C%20%5B35.8508000000579%2C%20-78.6208999999202%5D%2C%20%5B35.8517999996752%2C%20-78.6141999998152%5D%2C%20%5B35.772700000253%2C%20-78.633500000064%5D%2C%20%5B35.7744000000841%2C%20-78.6477000003401%5D%2C%20%5B35.7809100000823%2C%20-78.6755099999901%5D%2C%20%5B35.7819000000248%2C%20-78.6540999999711%5D%2C%20%5B35.7474000000639%2C%20-78.6212999999533%5D%2C%20%5B35.7909000000359%2C%20-78.6628000002415%5D%2C%20%5B35.7536999996995%2C%20-78.6125000001238%5D%2C%20%5B35.907520000209%2C%20-78.5968500004015%5D%2C%20%5B35.7767000001835%2C%20-78.6353000002129%5D%2C%20%5B35.7864000002563%2C%20-78.7127000003261%5D%2C%20%5B35.7668900000083%2C%20-78.7053299998513%5D%2C%20%5B35.8483600001709%2C%20-78.5801799996067%5D%2C%20%5B35.7474999996713%2C%20-78.5917000002001%5D%2C%20%5B35.7899000002437%2C%20-78.6777999996854%5D%2C%20%5B35.7811000000997%2C%20-78.637999999987%5D%2C%20%5B35.8098999996664%2C%20-78.705299999714%5D%2C%20%5B35.7797899997269%2C%20-78.6180799995971%5D%2C%20%5B35.7834999997714%2C%20-78.6881999996472%5D%2C%20%5B35.7594999997372%2C%20-78.6390000000697%5D%2C%20%5B35.8483000000873%2C%20-78.5990999999139%5D%2C%20%5B35.7782999996397%2C%20-78.6430999999596%5D%2C%20%5B35.8136099999711%2C%20-78.7121200003679%5D%2C%20%5B35.7727199996563%2C%20-78.6335999996231%5D%2C%20%5B35.7897400001003%2C%20-78.6767500002723%5D%2C%20%5B35.7768000001363%2C%20-78.6345000001467%5D%2C%20%5B35.7860500002334%2C%20-78.7072499996507%5D%2C%20%5B35.8363000002037%2C%20-78.6459000001912%5D%2C%20%5B35.8302000001157%2C%20-78.5782000004311%5D%2C%20%5B35.7821599996881%2C%20-78.6788499999968%5D%2C%20%5B35.7606899998914%2C%20-78.5603899998115%5D%2C%20%5B35.9030000001897%2C%20-78.5829999999298%5D%2C%20%5B35.8144000001335%2C%20-78.7054999997306%5D%2C%20%5B35.8969999997038%2C%20-78.7710000002071%5D%2C%20%5B35.7697000000028%2C%20-78.6663000000818%5D%2C%20%5B35.7808000000563%2C%20-78.6459000001912%5D%2C%20%5B35.784799999855%2C%20-78.6871000000054%5D%2C%20%5B35.857920000035%2C%20-78.680559999734%5D%2C%20%5B35.9123000000398%2C%20-78.7816999997445%5D%2C%20%5B35.8750000003062%2C%20-78.6459999997503%5D%2C%20%5B35.7712000000614%2C%20-78.6453000001416%5D%2C%20%5B35.8680000003405%2C%20-78.6665000000983%5D%2C%20%5B35.9020999998242%2C%20-78.6695000003464%5D%2C%20%5B35.8275600002103%2C%20-78.6574700001151%5D%2C%20%5B35.8531400000243%2C%20-78.7091700003485%5D%2C%20%5B35.7949000001526%2C%20-78.7046999996644%5D%2C%20%5B35.772700000253%2C%20-78.6842999997738%5D%2C%20%5B35.7872999999004%2C%20-78.6471999998496%5D%2C%20%5B35.7873600001944%2C%20-78.6666800000234%5D%2C%20%5B35.7533000003276%2C%20-78.7007300003691%5D%2C%20%5B35.916600000311%2C%20-78.5941000003987%5D%2C%20%5B35.8089900000609%2C%20-78.5428799996659%5D%2C%20%5B35.7844000001878%2C%20-78.658500000335%5D%2C%20%5B35.8731800002784%2C%20-78.6848000002644%5D%2C%20%5B35.7686300002675%2C%20-78.5808499999765%5D%2C%20%5B35.7969799999411%2C%20-78.6603499998143%5D%2C%20%5B35.8829200001392%2C%20-78.5699999997529%5D%2C%20%5B35.7790000000722%2C%20-78.6455999997172%5D%2C%20%5B35.78428999989%2C%20-78.6943900001143%5D%2C%20%5B35.7864999996674%2C%20-78.7115999997859%5D%2C%20%5B35.7816000000854%2C%20-78.678700000209%5D%2C%20%5B35.8952699998002%2C%20-78.5194300001968%5D%2C%20%5B35.7843599999647%2C%20-78.6871300001426%5D%2C%20%5B35.7799999999933%2C%20-78.6129000001569%5D%2C%20%5B35.8439999996847%2C%20-78.612999999716%5D%2C%20%5B35.783599999916%2C%20-78.6147000003058%5D%2C%20%5B35.8973000001604%2C%20-78.6525600001132%5D%2C%20%5B35.7932000000406%2C%20-78.6088999998261%5D%2C%20%5B35.8889999999437%2C%20-78.6274999995677%5D%2C%20%5B35.7740700002243%2C%20-78.6958599996519%5D%2C%20%5B35.7660000001874%2C%20-78.5827000003541%5D%2C%20%5B35.8680000003405%2C%20-78.6190000002122%5D%2C%20%5B35.7614999999775%2C%20-78.5960000001066%5D%2C%20%5B35.7423000000531%2C%20-78.5766999998579%5D%2C%20%5B35.7972000002304%2C%20-78.6410000002351%5D%2C%20%5B35.7469000001424%2C%20-78.6589000003681%5D%2C%20%5B35.7667000002929%2C%20-78.7013000002815%5D%2C%20%5B35.8658200000567%2C%20-78.620400000328%5D%2C%20%5B35.8735999998521%2C%20-78.7276000002109%5D%2C%20%5B35.7976200000185%2C%20-78.5779200000486%5D%2C%20%5B35.9345999997357%2C%20-78.5764000002822%5D%2C%20%5B35.868999999928%2C%20-78.5713999998687%5D%2C%20%5B35.7730000002488%2C%20-78.6420999998769%5D%2C%20%5B35.7559000000355%2C%20-78.6661000000652%5D%2C%20%5B35.7868000000608%2C%20-78.6597999999934%5D%2C%20%5B35.7792599997458%2C%20-78.6864599997728%5D%2C%20%5B35.8553999998814%2C%20-78.7114900001811%5D%2C%20%5B35.7811000000997%2C%20-78.6434000004336%5D%2C%20%5B35.7747999997786%2C%20-78.6565000001696%5D%2C%20%5B35.7603999999075%2C%20-78.6430999999596%5D%2C%20%5B35.7558000000474%2C%20-78.6744000003025%5D%2C%20%5B35.760800000036%2C%20-78.5827999999132%5D%2C%20%5B35.7805000003385%2C%20-78.6434000004336%5D%2C%20%5B35.7353499998373%2C%20-78.6554499998582%5D%2C%20%5B35.8619444445248%2C%20-78.6273611110417%5D%2C%20%5B35.7783333333333%2C%20-78.6513888888889%5D%2C%20%5B35.8203500002187%2C%20-78.5923499995802%5D%2C%20%5B35.847199999976%2C%20-78.6076999997268%5D%2C%20%5B35.8561999998947%2C%20-78.6077099997726%5D%2C%20%5B35.8728699999621%2C%20-78.6224399997781%5D%2C%20%5B35.8923100000239%2C%20-78.558629999847%5D%2C%20%5B35.7808100002007%2C%20-78.6466299999386%5D%2C%20%5B35.7451%2C%20-78.6179%5D%2C%20%5B35.886%2C%20-78.55373%5D%2C%20%5B35.9057%2C%20-78.8005%5D%2C%20%5B35.7994%2C%20-78.55599%5D%2C%20%5B35.88602%2C%20-78.55383%5D%2C%20%5B35.7845%2C%20-78.6938%5D%2C%20%5B35.8657%2C%20-78.6377%5D%2C%20%5B35.88489%2C%20-78.52339%5D%2C%20%5B35.7676%2C%20-78.6907%5D%2C%20%5B35.772%2C%20-78.6352%5D%2C%20%5B35.7863%2C%20-78.7126%5D%2C%20%5B35.76%2C%20-78.661%5D%2C%20%5B35.73431%2C%20-78.65317%5D%2C%20%5B35.86%2C%20-78.6815%5D%2C%20%5B35.7825%2C%20-78.5482%5D%2C%20%5B35.73951%2C%20-78.62562%5D%2C%20%5B35.8832%2C%20-78.5701%5D%2C%20%5B35.86471%2C%20-78.64807%5D%2C%20%5B35.7694%2C%20-78.6354%5D%2C%20%5B35.8024%2C%20-78.6081%5D%2C%20%5B35.94447%2C%20-78.55558%5D%2C%20%5B35.9406%2C%20-78.5628%5D%5D%2C%0A%20%20%20%20%20%20%20%20%20%20%20%20%20%20%20%20%7B%22blur%22%3A%2015%2C%20%22maxZoom%22%3A%2018%2C%20%22minOpacity%22%3A%200.5%2C%20%22radius%22%3A%2025%7D%0A%20%20%20%20%20%20%20%20%20%20%20%20%29.addTo%28map_fc4b480e8a8c4d71a790babbc115cce0%29%3B%0A%20%20%20%20%20%20%20%20%0A%3C/script%3E onload=\"this.contentDocument.open();this.contentDocument.write(    decodeURIComponent(this.getAttribute('data-html')));this.contentDocument.close();\" allowfullscreen webkitallowfullscreen mozallowfullscreen></iframe></div></div>"
      ],
      "text/plain": [
       "<folium.folium.Map at 0x7f38dbe362b0>"
      ]
     },
     "execution_count": 9,
     "metadata": {},
     "output_type": "execute_result"
    }
   ],
   "source": [
    "#heatmap for 2016-2020\n",
    "\n",
    "from folium.plugins import HeatMap\n",
    "\n",
    "map_6y = [] # create an empty list\n",
    "\n",
    "\n",
    "for index, crash in Crash_cleaned.iterrows():\n",
    "    # For each row in our data, we append (add) a [latitude, longitude] list to the heatmap_data list\n",
    "    map_6y.append([crash['Y'], crash['X']])\n",
    "    #map_2021.notnull()\n",
    "   # heatmap_2021 = [x for x in map_2021 if str(x) != 'nan']\n",
    "    #heatmap_2021=map_2021.dropna()\n",
    "    #map_2021[].notnull()\n",
    "heat_map_6y = pd.DataFrame(map_6y)\n",
    "\n",
    "#print(heat_map)\n",
    "\n",
    "heatmap_6y = heat_map_6y.dropna()\n",
    "\n",
    "heatmap_6y\n",
    "\n",
    "# Now we create a new map\n",
    "m = folium.Map(location=[35.787743, -78.64], zoom_start=12.5)\n",
    "\n",
    "# Now, a heatmap\n",
    "Crash_heatmap = HeatMap(heatmap_6y)\n",
    "\n",
    "# Crash_heatmap\n",
    "\n",
    "# We add the heat map to the map m1\n",
    "Crash_heatmap.add_to(m)\n",
    "\n",
    "# Now let's show the map\n",
    "m"
   ]
  },
  {
   "cell_type": "markdown",
   "metadata": {},
   "source": [
    "#### 5.2 Heat map for 2020 "
   ]
  },
  {
   "cell_type": "markdown",
   "metadata": {},
   "source": [
    "Thus data of 2020 were extracted so we could have a better view.\n",
    "Compared with previous heat map, we see the distribution of the heat somewhat changed\n",
    "This may be a supporting evidence for our previous hypothesis of the city putting up traffic signs / signals at the ‘no control presented’ areas"
   ]
  },
  {
   "cell_type": "code",
   "execution_count": 10,
   "metadata": {},
   "outputs": [
    {
     "data": {
      "text/html": [
       "<div style=\"width:100%;\"><div style=\"position:relative;width:100%;height:0;padding-bottom:60%;\"><span style=\"color:#565656\">Make this Notebook Trusted to load map: File -> Trust Notebook</span><iframe src=\"about:blank\" style=\"position:absolute;width:100%;height:100%;left:0;top:0;border:none !important;\" data-html=%3C%21DOCTYPE%20html%3E%0A%3Chead%3E%20%20%20%20%0A%20%20%20%20%3Cmeta%20http-equiv%3D%22content-type%22%20content%3D%22text/html%3B%20charset%3DUTF-8%22%20/%3E%0A%20%20%20%20%0A%20%20%20%20%20%20%20%20%3Cscript%3E%0A%20%20%20%20%20%20%20%20%20%20%20%20L_NO_TOUCH%20%3D%20false%3B%0A%20%20%20%20%20%20%20%20%20%20%20%20L_DISABLE_3D%20%3D%20false%3B%0A%20%20%20%20%20%20%20%20%3C/script%3E%0A%20%20%20%20%0A%20%20%20%20%3Cstyle%3Ehtml%2C%20body%20%7Bwidth%3A%20100%25%3Bheight%3A%20100%25%3Bmargin%3A%200%3Bpadding%3A%200%3B%7D%3C/style%3E%0A%20%20%20%20%3Cstyle%3E%23map%20%7Bposition%3Aabsolute%3Btop%3A0%3Bbottom%3A0%3Bright%3A0%3Bleft%3A0%3B%7D%3C/style%3E%0A%20%20%20%20%3Cscript%20src%3D%22https%3A//cdn.jsdelivr.net/npm/leaflet%401.6.0/dist/leaflet.js%22%3E%3C/script%3E%0A%20%20%20%20%3Cscript%20src%3D%22https%3A//code.jquery.com/jquery-1.12.4.min.js%22%3E%3C/script%3E%0A%20%20%20%20%3Cscript%20src%3D%22https%3A//maxcdn.bootstrapcdn.com/bootstrap/3.2.0/js/bootstrap.min.js%22%3E%3C/script%3E%0A%20%20%20%20%3Cscript%20src%3D%22https%3A//cdnjs.cloudflare.com/ajax/libs/Leaflet.awesome-markers/2.0.2/leaflet.awesome-markers.js%22%3E%3C/script%3E%0A%20%20%20%20%3Clink%20rel%3D%22stylesheet%22%20href%3D%22https%3A//cdn.jsdelivr.net/npm/leaflet%401.6.0/dist/leaflet.css%22/%3E%0A%20%20%20%20%3Clink%20rel%3D%22stylesheet%22%20href%3D%22https%3A//maxcdn.bootstrapcdn.com/bootstrap/3.2.0/css/bootstrap.min.css%22/%3E%0A%20%20%20%20%3Clink%20rel%3D%22stylesheet%22%20href%3D%22https%3A//maxcdn.bootstrapcdn.com/bootstrap/3.2.0/css/bootstrap-theme.min.css%22/%3E%0A%20%20%20%20%3Clink%20rel%3D%22stylesheet%22%20href%3D%22https%3A//maxcdn.bootstrapcdn.com/font-awesome/4.6.3/css/font-awesome.min.css%22/%3E%0A%20%20%20%20%3Clink%20rel%3D%22stylesheet%22%20href%3D%22https%3A//cdnjs.cloudflare.com/ajax/libs/Leaflet.awesome-markers/2.0.2/leaflet.awesome-markers.css%22/%3E%0A%20%20%20%20%3Clink%20rel%3D%22stylesheet%22%20href%3D%22https%3A//cdn.jsdelivr.net/gh/python-visualization/folium/folium/templates/leaflet.awesome.rotate.min.css%22/%3E%0A%20%20%20%20%0A%20%20%20%20%20%20%20%20%20%20%20%20%3Cmeta%20name%3D%22viewport%22%20content%3D%22width%3Ddevice-width%2C%0A%20%20%20%20%20%20%20%20%20%20%20%20%20%20%20%20initial-scale%3D1.0%2C%20maximum-scale%3D1.0%2C%20user-scalable%3Dno%22%20/%3E%0A%20%20%20%20%20%20%20%20%20%20%20%20%3Cstyle%3E%0A%20%20%20%20%20%20%20%20%20%20%20%20%20%20%20%20%23map_9dda473ed0584a0ea782f8746556c015%20%7B%0A%20%20%20%20%20%20%20%20%20%20%20%20%20%20%20%20%20%20%20%20position%3A%20relative%3B%0A%20%20%20%20%20%20%20%20%20%20%20%20%20%20%20%20%20%20%20%20width%3A%20100.0%25%3B%0A%20%20%20%20%20%20%20%20%20%20%20%20%20%20%20%20%20%20%20%20height%3A%20100.0%25%3B%0A%20%20%20%20%20%20%20%20%20%20%20%20%20%20%20%20%20%20%20%20left%3A%200.0%25%3B%0A%20%20%20%20%20%20%20%20%20%20%20%20%20%20%20%20%20%20%20%20top%3A%200.0%25%3B%0A%20%20%20%20%20%20%20%20%20%20%20%20%20%20%20%20%7D%0A%20%20%20%20%20%20%20%20%20%20%20%20%3C/style%3E%0A%20%20%20%20%20%20%20%20%0A%20%20%20%20%3Cscript%20src%3D%22https%3A//cdn.jsdelivr.net/gh/python-visualization/folium%40master/folium/templates/leaflet_heat.min.js%22%3E%3C/script%3E%0A%3C/head%3E%0A%3Cbody%3E%20%20%20%20%0A%20%20%20%20%0A%20%20%20%20%20%20%20%20%20%20%20%20%3Cdiv%20class%3D%22folium-map%22%20id%3D%22map_9dda473ed0584a0ea782f8746556c015%22%20%3E%3C/div%3E%0A%20%20%20%20%20%20%20%20%0A%3C/body%3E%0A%3Cscript%3E%20%20%20%20%0A%20%20%20%20%0A%20%20%20%20%20%20%20%20%20%20%20%20var%20map_9dda473ed0584a0ea782f8746556c015%20%3D%20L.map%28%0A%20%20%20%20%20%20%20%20%20%20%20%20%20%20%20%20%22map_9dda473ed0584a0ea782f8746556c015%22%2C%0A%20%20%20%20%20%20%20%20%20%20%20%20%20%20%20%20%7B%0A%20%20%20%20%20%20%20%20%20%20%20%20%20%20%20%20%20%20%20%20center%3A%20%5B35.787743%2C%20-78.64%5D%2C%0A%20%20%20%20%20%20%20%20%20%20%20%20%20%20%20%20%20%20%20%20crs%3A%20L.CRS.EPSG3857%2C%0A%20%20%20%20%20%20%20%20%20%20%20%20%20%20%20%20%20%20%20%20zoom%3A%2012.5%2C%0A%20%20%20%20%20%20%20%20%20%20%20%20%20%20%20%20%20%20%20%20zoomControl%3A%20true%2C%0A%20%20%20%20%20%20%20%20%20%20%20%20%20%20%20%20%20%20%20%20preferCanvas%3A%20false%2C%0A%20%20%20%20%20%20%20%20%20%20%20%20%20%20%20%20%7D%0A%20%20%20%20%20%20%20%20%20%20%20%20%29%3B%0A%0A%20%20%20%20%20%20%20%20%20%20%20%20%0A%0A%20%20%20%20%20%20%20%20%0A%20%20%20%20%0A%20%20%20%20%20%20%20%20%20%20%20%20var%20tile_layer_5277cf6f26364e88b35b5b9390375106%20%3D%20L.tileLayer%28%0A%20%20%20%20%20%20%20%20%20%20%20%20%20%20%20%20%22https%3A//%7Bs%7D.tile.openstreetmap.org/%7Bz%7D/%7Bx%7D/%7By%7D.png%22%2C%0A%20%20%20%20%20%20%20%20%20%20%20%20%20%20%20%20%7B%22attribution%22%3A%20%22Data%20by%20%5Cu0026copy%3B%20%5Cu003ca%20href%3D%5C%22http%3A//openstreetmap.org%5C%22%5Cu003eOpenStreetMap%5Cu003c/a%5Cu003e%2C%20under%20%5Cu003ca%20href%3D%5C%22http%3A//www.openstreetmap.org/copyright%5C%22%5Cu003eODbL%5Cu003c/a%5Cu003e.%22%2C%20%22detectRetina%22%3A%20false%2C%20%22maxNativeZoom%22%3A%2018%2C%20%22maxZoom%22%3A%2018%2C%20%22minZoom%22%3A%200%2C%20%22noWrap%22%3A%20false%2C%20%22opacity%22%3A%201%2C%20%22subdomains%22%3A%20%22abc%22%2C%20%22tms%22%3A%20false%7D%0A%20%20%20%20%20%20%20%20%20%20%20%20%29.addTo%28map_9dda473ed0584a0ea782f8746556c015%29%3B%0A%20%20%20%20%20%20%20%20%0A%20%20%20%20%0A%20%20%20%20%20%20%20%20%20%20%20%20var%20heat_map_0bcdbfeae41f491e93935ad6b4b7a6eb%20%3D%20L.heatLayer%28%0A%20%20%20%20%20%20%20%20%20%20%20%20%20%20%20%20%5B%5B35.868999999928%2C%20-78.5713999998687%5D%2C%20%5B35.7730000002488%2C%20-78.6420999998769%5D%2C%20%5B35.7559000000355%2C%20-78.6661000000652%5D%2C%20%5B35.7868000000608%2C%20-78.6597999999934%5D%2C%20%5B35.7792599997458%2C%20-78.6864599997728%5D%2C%20%5B35.8553999998814%2C%20-78.7114900001811%5D%2C%20%5B35.7811000000997%2C%20-78.6434000004336%5D%2C%20%5B35.7747999997786%2C%20-78.6565000001696%5D%2C%20%5B35.7603999999075%2C%20-78.6430999999596%5D%2C%20%5B35.7558000000474%2C%20-78.6744000003025%5D%2C%20%5B35.7783333333333%2C%20-78.6513888888889%5D%2C%20%5B35.8203500002187%2C%20-78.5923499995802%5D%2C%20%5B35.847199999976%2C%20-78.6076999997268%5D%2C%20%5B35.8561999998947%2C%20-78.6077099997726%5D%2C%20%5B35.8728699999621%2C%20-78.6224399997781%5D%2C%20%5B35.8923100000239%2C%20-78.558629999847%5D%2C%20%5B35.7808100002007%2C%20-78.6466299999386%5D%2C%20%5B35.7451%2C%20-78.6179%5D%2C%20%5B35.886%2C%20-78.55373%5D%2C%20%5B35.9057%2C%20-78.8005%5D%2C%20%5B35.7994%2C%20-78.55599%5D%2C%20%5B35.88602%2C%20-78.55383%5D%2C%20%5B35.7845%2C%20-78.6938%5D%2C%20%5B35.8657%2C%20-78.6377%5D%2C%20%5B35.88489%2C%20-78.52339%5D%2C%20%5B35.7676%2C%20-78.6907%5D%2C%20%5B35.772%2C%20-78.6352%5D%2C%20%5B35.7863%2C%20-78.7126%5D%2C%20%5B35.76%2C%20-78.661%5D%2C%20%5B35.73431%2C%20-78.65317%5D%2C%20%5B35.86%2C%20-78.6815%5D%2C%20%5B35.7825%2C%20-78.5482%5D%2C%20%5B35.73951%2C%20-78.62562%5D%2C%20%5B35.8832%2C%20-78.5701%5D%2C%20%5B35.86471%2C%20-78.64807%5D%2C%20%5B35.7694%2C%20-78.6354%5D%2C%20%5B35.8024%2C%20-78.6081%5D%2C%20%5B35.94447%2C%20-78.55558%5D%2C%20%5B35.9406%2C%20-78.5628%5D%5D%2C%0A%20%20%20%20%20%20%20%20%20%20%20%20%20%20%20%20%7B%22blur%22%3A%2015%2C%20%22maxZoom%22%3A%2018%2C%20%22minOpacity%22%3A%200.5%2C%20%22radius%22%3A%2025%7D%0A%20%20%20%20%20%20%20%20%20%20%20%20%29.addTo%28map_9dda473ed0584a0ea782f8746556c015%29%3B%0A%20%20%20%20%20%20%20%20%0A%3C/script%3E onload=\"this.contentDocument.open();this.contentDocument.write(    decodeURIComponent(this.getAttribute('data-html')));this.contentDocument.close();\" allowfullscreen webkitallowfullscreen mozallowfullscreen></iframe></div></div>"
      ],
      "text/plain": [
       "<folium.folium.Map at 0x7f38dbd9ad60>"
      ]
     },
     "execution_count": 10,
     "metadata": {},
     "output_type": "execute_result"
    }
   ],
   "source": [
    "#heatmap for 2020\n",
    "\n",
    "\n",
    "Crash_2020 = Crash[Crash['Crash_Date_Year'] == 2020]\n",
    "\n",
    "\n",
    "map_2020 = [] # create an empty list\n",
    "\n",
    "\n",
    "for index, crash in Crash_2020.iterrows():\n",
    "    # For each row in our data, we append (add) a [latitude, longitude] list to the heatmap_data list\n",
    "    map_2020.append([crash['Y'], crash['X']])\n",
    "    #map_2021.notnull()\n",
    "   # heatmap_2021 = [x for x in map_2021 if str(x) != 'nan']\n",
    "    #heatmap_2021=map_2021.dropna()\n",
    "    #map_2021[].notnull()\n",
    "heat_map = pd.DataFrame(map_2020)\n",
    "\n",
    "#print(heat_map)\n",
    "\n",
    "heatmap_2020 = heat_map.dropna()\n",
    "\n",
    "heatmap_2020\n",
    "\n",
    "# Now we create a new map\n",
    "m1 = folium.Map(location=[35.787743, -78.64], zoom_start=12.5)\n",
    "\n",
    "# Now, a heatmap\n",
    "Crash_heatmap = HeatMap(heatmap_2020)\n",
    "\n",
    "# Crash_heatmap\n",
    "\n",
    "# We add the heat map to the map m1\n",
    "Crash_heatmap.add_to(m1)\n",
    "\n",
    "# Now let's show the map\n",
    "m1"
   ]
  },
  {
   "cell_type": "markdown",
   "metadata": {},
   "source": [
    "#### Limitation of this data-set"
   ]
  },
  {
   "cell_type": "markdown",
   "metadata": {},
   "source": [
    "It only includes the number of crashes involving cyclists, but it does not contain the cyclists and vehicle number comparison in different areas of the city or during different time periods. This means that it would be difficult to truly know whether for certain areas, i.e. near campus or cbd, there’s more crashes only because there’s more traffic (more cyclists, pedestrian and more cars). And in less populated parts of the city, low crash rate cannot prove that it’s safer to bike there."
   ]
  },
  {
   "cell_type": "markdown",
   "metadata": {},
   "source": [
    "#### Limitation of my approach"
   ]
  },
  {
   "cell_type": "markdown",
   "metadata": {},
   "source": [
    "I would aim for an interactive visual rather than extracting a year out manually. Plan to explore the Python Bokeh and see if it’s workable (during winter holiday)."
   ]
  },
  {
   "cell_type": "markdown",
   "metadata": {},
   "source": [
    "### 6. Crash vs. Time"
   ]
  },
  {
   "cell_type": "markdown",
   "metadata": {},
   "source": [
    "I was originally interested in exploring the correlation between crash and sun glare. I suspect more crashes happen when there's strong sunlight. \n",
    "One article to backup my hypothesis: \n",
    "With data from signalized intersections of Tucson, Arizona, an empirical investigation is performed here to assess how sun glare affects intersection safety. The task is performed by comparing and contrasting crashes that are possibly affected by morning and evening sun-glare with those that are unaffected by glare. Sun rise and sun set data, obtained from National Oceanic and Atmospheric Association (NOAA) is used and windows of worst possible glare are computed. \n",
    "Result shows:\n",
    "• Eastbound traffic in morning and west bound traffic in evening showed more crashes.\n",
    "• Sun glare is found to be worst in early spring and fall and the least during summer.\n",
    "• Right angle and rear end crashes are found to be more than expected during glare.\n",
    "• Sun glare is found to have no effect on crash severities.\n",
    "From <Sun glare and road safety: An empirical investigation of intersection crashes> By Sudeshna Mitra\n",
    "(https://www.sciencedirect.com/science/article/abs/pii/S0925753514001386)\n",
    " \n",
    "However how to define the time of the day with sun glare is way to complicated. So I decided to divide one day into 4 time periods: daytime, dawn, dusk, nighttime. And analyze in which period there’s more crashes and whether there’s any pattern to it."
   ]
  },
  {
   "cell_type": "code",
   "execution_count": 2,
   "metadata": {},
   "outputs": [
    {
     "name": "stderr",
     "output_type": "stream",
     "text": [
      "/tmp/ipykernel_1694/2283990545.py:5: SettingWithCopyWarning: \n",
      "A value is trying to be set on a copy of a slice from a DataFrame.\n",
      "Try using .loc[row_indexer,col_indexer] = value instead\n",
      "\n",
      "See the caveats in the documentation: https://pandas.pydata.org/pandas-docs/stable/user_guide/indexing.html#returning-a-view-versus-a-copy\n",
      "  Crash_cleaned['DateOfCrash'] = pd.to_datetime(Crash_cleaned['DateOfCrash'])\n",
      "/tmp/ipykernel_1694/2283990545.py:7: SettingWithCopyWarning: \n",
      "A value is trying to be set on a copy of a slice from a DataFrame.\n",
      "Try using .loc[row_indexer,col_indexer] = value instead\n",
      "\n",
      "See the caveats in the documentation: https://pandas.pydata.org/pandas-docs/stable/user_guide/indexing.html#returning-a-view-versus-a-copy\n",
      "  Crash_cleaned['DateOfCrash'] = Crash_cleaned['DateOfCrash'].dt.tz_convert('America/New_York')\n",
      "/tmp/ipykernel_1694/2283990545.py:10: SettingWithCopyWarning: \n",
      "A value is trying to be set on a copy of a slice from a DataFrame.\n",
      "Try using .loc[row_indexer,col_indexer] = value instead\n",
      "\n",
      "See the caveats in the documentation: https://pandas.pydata.org/pandas-docs/stable/user_guide/indexing.html#returning-a-view-versus-a-copy\n",
      "  Crash_cleaned['YMD']= Crash_cleaned['DateOfCrash'].dt.date\n",
      "/usr/local/lib/python3.8/dist-packages/pandas/core/indexing.py:1684: SettingWithCopyWarning: \n",
      "A value is trying to be set on a copy of a slice from a DataFrame.\n",
      "Try using .loc[row_indexer,col_indexer] = value instead\n",
      "\n",
      "See the caveats in the documentation: https://pandas.pydata.org/pandas-docs/stable/user_guide/indexing.html#returning-a-view-versus-a-copy\n",
      "  self.obj[key] = infer_fill_value(value)\n",
      "/usr/local/lib/python3.8/dist-packages/pandas/core/indexing.py:1817: SettingWithCopyWarning: \n",
      "A value is trying to be set on a copy of a slice from a DataFrame.\n",
      "Try using .loc[row_indexer,col_indexer] = value instead\n",
      "\n",
      "See the caveats in the documentation: https://pandas.pydata.org/pandas-docs/stable/user_guide/indexing.html#returning-a-view-versus-a-copy\n",
      "  self._setitem_single_column(loc, value, pi)\n"
     ]
    },
    {
     "data": {
      "text/html": [
       "<div>\n",
       "<style scoped>\n",
       "    .dataframe tbody tr th:only-of-type {\n",
       "        vertical-align: middle;\n",
       "    }\n",
       "\n",
       "    .dataframe tbody tr th {\n",
       "        vertical-align: top;\n",
       "    }\n",
       "\n",
       "    .dataframe thead th {\n",
       "        text-align: right;\n",
       "    }\n",
       "</style>\n",
       "<table border=\"1\" class=\"dataframe\">\n",
       "  <thead>\n",
       "    <tr style=\"text-align: right;\">\n",
       "      <th></th>\n",
       "      <th>X</th>\n",
       "      <th>Y</th>\n",
       "      <th>OBJECTID</th>\n",
       "      <th>key_crash</th>\n",
       "      <th>DateOfCrash</th>\n",
       "      <th>LocalUse</th>\n",
       "      <th>LocationRelationToRoad</th>\n",
       "      <th>LocationInNearIndicator</th>\n",
       "      <th>LocationCity</th>\n",
       "      <th>LocationCounty</th>\n",
       "      <th>...</th>\n",
       "      <th>type_c_injury</th>\n",
       "      <th>no_injury</th>\n",
       "      <th>injury_unknown</th>\n",
       "      <th>LocationLatitude</th>\n",
       "      <th>LocationLongitude</th>\n",
       "      <th>YMD</th>\n",
       "      <th>dawn</th>\n",
       "      <th>dusk</th>\n",
       "      <th>sunset</th>\n",
       "      <th>sunrise</th>\n",
       "    </tr>\n",
       "  </thead>\n",
       "  <tbody>\n",
       "    <tr>\n",
       "      <th>70</th>\n",
       "      <td>-78.6730</td>\n",
       "      <td>35.7912</td>\n",
       "      <td>24441</td>\n",
       "      <td>146665</td>\n",
       "      <td>2016-01-06 23:36:00-05:00</td>\n",
       "      <td>P16001025</td>\n",
       "      <td>On Roadway (Surface) / Off Roadway</td>\n",
       "      <td>In</td>\n",
       "      <td>RALEIGH</td>\n",
       "      <td>Wake</td>\n",
       "      <td>...</td>\n",
       "      <td>1</td>\n",
       "      <td>1</td>\n",
       "      <td>0</td>\n",
       "      <td>35.7912</td>\n",
       "      <td>-78.6730</td>\n",
       "      <td>2016-01-06</td>\n",
       "      <td>2016-01-06 06:56:35.472786-05:00</td>\n",
       "      <td>2016-01-06 17:44:08.608645-05:00</td>\n",
       "      <td>2016-01-06 17:15:22.022784-05:00</td>\n",
       "      <td>2016-01-06 07:25:21.853435-05:00</td>\n",
       "    </tr>\n",
       "    <tr>\n",
       "      <th>71</th>\n",
       "      <td>-78.6717</td>\n",
       "      <td>35.7886</td>\n",
       "      <td>24443</td>\n",
       "      <td>146667</td>\n",
       "      <td>2016-01-07 01:20:00-05:00</td>\n",
       "      <td>P16001054</td>\n",
       "      <td>On Roadway (Surface) / Off Roadway</td>\n",
       "      <td>In</td>\n",
       "      <td>RALEIGH</td>\n",
       "      <td>Wake</td>\n",
       "      <td>...</td>\n",
       "      <td>0</td>\n",
       "      <td>2</td>\n",
       "      <td>0</td>\n",
       "      <td>35.7886</td>\n",
       "      <td>-78.6717</td>\n",
       "      <td>2016-01-07</td>\n",
       "      <td>2016-01-07 06:56:38.476761-05:00</td>\n",
       "      <td>2016-01-07 17:44:58.508098-05:00</td>\n",
       "      <td>2016-01-07 17:16:14.154481-05:00</td>\n",
       "      <td>2016-01-07 07:25:22.609157-05:00</td>\n",
       "    </tr>\n",
       "    <tr>\n",
       "      <th>72</th>\n",
       "      <td>-78.6706</td>\n",
       "      <td>35.7883</td>\n",
       "      <td>24672</td>\n",
       "      <td>146903</td>\n",
       "      <td>2016-01-10 19:01:00-05:00</td>\n",
       "      <td>P16001748</td>\n",
       "      <td>On Roadway (Surface) / Off Roadway</td>\n",
       "      <td>In</td>\n",
       "      <td>RALEIGH</td>\n",
       "      <td>Wake</td>\n",
       "      <td>...</td>\n",
       "      <td>0</td>\n",
       "      <td>3</td>\n",
       "      <td>0</td>\n",
       "      <td>35.7883</td>\n",
       "      <td>-78.6706</td>\n",
       "      <td>2016-01-10</td>\n",
       "      <td>2016-01-10 06:56:36.440424-05:00</td>\n",
       "      <td>2016-01-10 17:47:33.258285-05:00</td>\n",
       "      <td>2016-01-10 17:18:56.254519-05:00</td>\n",
       "      <td>2016-01-10 07:25:13.171895-05:00</td>\n",
       "    </tr>\n",
       "    <tr>\n",
       "      <th>73</th>\n",
       "      <td>-78.6417</td>\n",
       "      <td>35.7805</td>\n",
       "      <td>24893</td>\n",
       "      <td>147125</td>\n",
       "      <td>2016-01-13 22:18:00-05:00</td>\n",
       "      <td>P16002347</td>\n",
       "      <td>On Roadway (Surface) / Off Roadway</td>\n",
       "      <td>In</td>\n",
       "      <td>RALEIGH</td>\n",
       "      <td>Wake</td>\n",
       "      <td>...</td>\n",
       "      <td>1</td>\n",
       "      <td>1</td>\n",
       "      <td>0</td>\n",
       "      <td>35.7805</td>\n",
       "      <td>-78.6417</td>\n",
       "      <td>2016-01-13</td>\n",
       "      <td>2016-01-13 06:56:17.729906-05:00</td>\n",
       "      <td>2016-01-13 17:50:14.647593-05:00</td>\n",
       "      <td>2016-01-13 17:21:45.870779-05:00</td>\n",
       "      <td>2016-01-13 07:24:46.178316-05:00</td>\n",
       "    </tr>\n",
       "    <tr>\n",
       "      <th>74</th>\n",
       "      <td>-78.6872</td>\n",
       "      <td>35.7843</td>\n",
       "      <td>25892</td>\n",
       "      <td>148133</td>\n",
       "      <td>2016-01-30 16:15:00-05:00</td>\n",
       "      <td>P16005326</td>\n",
       "      <td>Outside Trafficway</td>\n",
       "      <td>In</td>\n",
       "      <td>RALEIGH</td>\n",
       "      <td>Wake</td>\n",
       "      <td>...</td>\n",
       "      <td>0</td>\n",
       "      <td>2</td>\n",
       "      <td>0</td>\n",
       "      <td>35.7843</td>\n",
       "      <td>-78.6872</td>\n",
       "      <td>2016-01-30</td>\n",
       "      <td>2016-01-30 06:49:21.985896-05:00</td>\n",
       "      <td>2016-01-30 18:06:40.379424-05:00</td>\n",
       "      <td>2016-01-30 17:39:07.795539-05:00</td>\n",
       "      <td>2016-01-30 07:16:53.807156-05:00</td>\n",
       "    </tr>\n",
       "  </tbody>\n",
       "</table>\n",
       "<p>5 rows × 52 columns</p>\n",
       "</div>"
      ],
      "text/plain": [
       "          X        Y  OBJECTID  key_crash               DateOfCrash  \\\n",
       "70 -78.6730  35.7912     24441     146665 2016-01-06 23:36:00-05:00   \n",
       "71 -78.6717  35.7886     24443     146667 2016-01-07 01:20:00-05:00   \n",
       "72 -78.6706  35.7883     24672     146903 2016-01-10 19:01:00-05:00   \n",
       "73 -78.6417  35.7805     24893     147125 2016-01-13 22:18:00-05:00   \n",
       "74 -78.6872  35.7843     25892     148133 2016-01-30 16:15:00-05:00   \n",
       "\n",
       "     LocalUse              LocationRelationToRoad LocationInNearIndicator  \\\n",
       "70  P16001025  On Roadway (Surface) / Off Roadway                      In   \n",
       "71  P16001054  On Roadway (Surface) / Off Roadway                      In   \n",
       "72  P16001748  On Roadway (Surface) / Off Roadway                      In   \n",
       "73  P16002347  On Roadway (Surface) / Off Roadway                      In   \n",
       "74  P16005326                  Outside Trafficway                      In   \n",
       "\n",
       "   LocationCity LocationCounty  ... type_c_injury  no_injury injury_unknown  \\\n",
       "70      RALEIGH           Wake  ...             1          1              0   \n",
       "71      RALEIGH           Wake  ...             0          2              0   \n",
       "72      RALEIGH           Wake  ...             0          3              0   \n",
       "73      RALEIGH           Wake  ...             1          1              0   \n",
       "74      RALEIGH           Wake  ...             0          2              0   \n",
       "\n",
       "   LocationLatitude LocationLongitude         YMD  \\\n",
       "70          35.7912          -78.6730  2016-01-06   \n",
       "71          35.7886          -78.6717  2016-01-07   \n",
       "72          35.7883          -78.6706  2016-01-10   \n",
       "73          35.7805          -78.6417  2016-01-13   \n",
       "74          35.7843          -78.6872  2016-01-30   \n",
       "\n",
       "                                dawn                              dusk  \\\n",
       "70  2016-01-06 06:56:35.472786-05:00  2016-01-06 17:44:08.608645-05:00   \n",
       "71  2016-01-07 06:56:38.476761-05:00  2016-01-07 17:44:58.508098-05:00   \n",
       "72  2016-01-10 06:56:36.440424-05:00  2016-01-10 17:47:33.258285-05:00   \n",
       "73  2016-01-13 06:56:17.729906-05:00  2016-01-13 17:50:14.647593-05:00   \n",
       "74  2016-01-30 06:49:21.985896-05:00  2016-01-30 18:06:40.379424-05:00   \n",
       "\n",
       "                              sunset                           sunrise  \n",
       "70  2016-01-06 17:15:22.022784-05:00  2016-01-06 07:25:21.853435-05:00  \n",
       "71  2016-01-07 17:16:14.154481-05:00  2016-01-07 07:25:22.609157-05:00  \n",
       "72  2016-01-10 17:18:56.254519-05:00  2016-01-10 07:25:13.171895-05:00  \n",
       "73  2016-01-13 17:21:45.870779-05:00  2016-01-13 07:24:46.178316-05:00  \n",
       "74  2016-01-30 17:39:07.795539-05:00  2016-01-30 07:16:53.807156-05:00  \n",
       "\n",
       "[5 rows x 52 columns]"
      ]
     },
     "execution_count": 2,
     "metadata": {},
     "output_type": "execute_result"
    }
   ],
   "source": [
    "from astral import LocationInfo\n",
    "from astral.sun import sun\n",
    "\n",
    "#make DateOfCrash column datetime; Get rid of the localization (UTC tz); Add local tz.\n",
    "Crash_cleaned['DateOfCrash'] = pd.to_datetime(Crash_cleaned['DateOfCrash'])\n",
    "# Crash_cleaned['DateOfCrash'] = Crash_cleaned['DateOfCrash'].dt.tz_localize(None)\n",
    "Crash_cleaned['DateOfCrash'] = Crash_cleaned['DateOfCrash'].dt.tz_convert('America/New_York')\n",
    "\n",
    "#add a new column YMD for the crash date\n",
    "Crash_cleaned['YMD']= Crash_cleaned['DateOfCrash'].dt.date\n",
    "\n",
    "#using astral to get sunrise, sunset, dawn, dusk info\n",
    "loc = LocationInfo(name='Raleigh', region='NC, USA', timezone='America/New_York',\n",
    "                   latitude=35.787743, longitude=-78.644257)\n",
    "\n",
    "for index, row in Crash_cleaned.iterrows():\n",
    "    day = row['YMD'] \n",
    "    s = sun(loc.observer, date=day, tzinfo=loc.timezone)\n",
    "    Crash_cleaned.loc[index, 'dawn']=s['dawn']\n",
    "    Crash_cleaned.loc[index, 'dusk']=s['dusk']\n",
    "    Crash_cleaned.loc[index, 'sunset']=s['sunset']\n",
    "    Crash_cleaned.loc[index, 'sunrise']=s['sunrise']\n",
    "Crash_cleaned.head()\n",
    "\n",
    "# s = sun(loc.observer, date=datetime.date(2021, 11, 18), tzinfo=loc.timezone)\n",
    "# for key in ['dawn', 'dusk', 'noon', 'sunrise', 'sunset']:\n",
    "#     print(f'{key:10s}:', s[key])\n"
   ]
  },
  {
   "cell_type": "code",
   "execution_count": 3,
   "metadata": {},
   "outputs": [
    {
     "name": "stderr",
     "output_type": "stream",
     "text": [
      "/tmp/ipykernel_1694/1381044610.py:4: SettingWithCopyWarning: \n",
      "A value is trying to be set on a copy of a slice from a DataFrame.\n",
      "Try using .loc[row_indexer,col_indexer] = value instead\n",
      "\n",
      "See the caveats in the documentation: https://pandas.pydata.org/pandas-docs/stable/user_guide/indexing.html#returning-a-view-versus-a-copy\n",
      "  Crash_cleaned['time_of_the_day'] = \"\"\n",
      "/usr/local/lib/python3.8/dist-packages/pandas/core/indexing.py:1817: SettingWithCopyWarning: \n",
      "A value is trying to be set on a copy of a slice from a DataFrame.\n",
      "Try using .loc[row_indexer,col_indexer] = value instead\n",
      "\n",
      "See the caveats in the documentation: https://pandas.pydata.org/pandas-docs/stable/user_guide/indexing.html#returning-a-view-versus-a-copy\n",
      "  self._setitem_single_column(loc, value, pi)\n"
     ]
    },
    {
     "data": {
      "text/plain": [
       "nighttime    161\n",
       "daytime      139\n",
       "dawn           1\n",
       "Name: time_of_the_day, dtype: int64"
      ]
     },
     "execution_count": 3,
     "metadata": {},
     "output_type": "execute_result"
    }
   ],
   "source": [
    "\n",
    "crashdate=Crash_cleaned['DateOfCrash']\n",
    "# crashdate.head()\n",
    "\n",
    "Crash_cleaned['time_of_the_day'] = \"\"\n",
    "\n",
    "for index, row in Crash_cleaned.iterrows():\n",
    "    crashtime = row['DateOfCrash']\n",
    "    dusktime = row['dawn']\n",
    "    sunsettime = row['sunset']\n",
    "    dawntime = row['dawn']\n",
    "    sunrisetime = row['sunrise']\n",
    "    glare = row['time_of_the_day']\n",
    "    if crashtime <=dusktime and crashtime >= sunsettime:\n",
    "        Crash_cleaned.loc[index, 'time_of_the_day']='dusk'\n",
    "    elif crashtime <=sunrisetime and crashtime >= dawntime:\n",
    "        Crash_cleaned.loc[index, 'time_of_the_day']='dawn'\n",
    "    elif crashtime > sunrisetime and crashtime < sunsettime:\n",
    "        Crash_cleaned.loc[index, 'time_of_the_day']='daytime'\n",
    "    elif crashtime > dusktime or crashtime < dawntime:\n",
    "        Crash_cleaned.loc[index, 'time_of_the_day']='nighttime'\n",
    "    else:\n",
    "        Crash_cleaned.loc[index, 'time_of_the_day']='error'\n",
    "  \n",
    "Crash_cleaned['time_of_the_day'].value_counts()\n"
   ]
  },
  {
   "cell_type": "code",
   "execution_count": 4,
   "metadata": {},
   "outputs": [
    {
     "name": "stderr",
     "output_type": "stream",
     "text": [
      "/tmp/ipykernel_1694/3695095521.py:1: SettingWithCopyWarning: \n",
      "A value is trying to be set on a copy of a slice from a DataFrame.\n",
      "Try using .loc[row_indexer,col_indexer] = value instead\n",
      "\n",
      "See the caveats in the documentation: https://pandas.pydata.org/pandas-docs/stable/user_guide/indexing.html#returning-a-view-versus-a-copy\n",
      "  Crash_cleaned['hour']=Crash_cleaned['DateOfCrash'].dt.hour\n"
     ]
    },
    {
     "data": {
      "text/plain": [
       "<AxesSubplot:>"
      ]
     },
     "execution_count": 4,
     "metadata": {},
     "output_type": "execute_result"
    },
    {
     "data": {
      "image/png": "[encoded data removed]",
      "text/plain": [
       "<Figure size 720x360 with 1 Axes>"
      ]
     },
     "metadata": {
      "needs_background": "light"
     },
     "output_type": "display_data"
    }
   ],
   "source": [
    "Crash_cleaned['hour']=Crash_cleaned['DateOfCrash'].dt.hour\n",
    "Crash_cleaned['hour'].value_counts().plot.bar()"
   ]
  },
  {
   "cell_type": "code",
   "execution_count": 5,
   "metadata": {},
   "outputs": [
    {
     "data": {
      "text/plain": [
       "<AxesSubplot:>"
      ]
     },
     "execution_count": 5,
     "metadata": {},
     "output_type": "execute_result"
    },
    {
     "data": {
      "image/png": "[encoded data removed]",
      "text/plain": [
       "<Figure size 720x360 with 1 Axes>"
      ]
     },
     "metadata": {
      "needs_background": "light"
     },
     "output_type": "display_data"
    }
   ],
   "source": [
    "Crash_cleaned['time_of_the_day'].value_counts().plot.bar()"
   ]
  },
  {
   "cell_type": "code",
   "execution_count": 6,
   "metadata": {
    "scrolled": true
   },
   "outputs": [
    {
     "data": {
      "text/plain": [
       "([0, 1, 2, 3, 4, 5, 6, 7, 8, 9, 10, 11],\n",
       " [Text(0, 0, 'January'),\n",
       "  Text(1, 0, 'February'),\n",
       "  Text(2, 0, 'March'),\n",
       "  Text(3, 0, 'April'),\n",
       "  Text(4, 0, 'May'),\n",
       "  Text(5, 0, 'June'),\n",
       "  Text(6, 0, 'July'),\n",
       "  Text(7, 0, 'August'),\n",
       "  Text(8, 0, 'September'),\n",
       "  Text(9, 0, 'October'),\n",
       "  Text(10, 0, 'November'),\n",
       "  Text(11, 0, 'December')])"
      ]
     },
     "execution_count": 6,
     "metadata": {},
     "output_type": "execute_result"
    },
    {
     "data": {
      "image/png": "[encoded data removed]",
      "text/plain": [
       "<Figure size 629.875x360 with 1 Axes>"
      ]
     },
     "metadata": {
      "needs_background": "light"
     },
     "output_type": "display_data"
    }
   ],
   "source": [
    "sns.displot(x='Crash_Date_Month', hue='time_of_the_day', multiple=\"stack\", alpha=0.5, aspect = 1.5, data=Crash_cleaned)\n",
    "plt.xticks(rotation=45)"
   ]
  },
  {
   "cell_type": "markdown",
   "metadata": {},
   "source": [
    "The plot indicates that we only have very few crashes happen during dusk or dawn, this somehow got me a little surprised as I was expecting a much greater number but if we further do normalization and take into consideration of the road directions or traffic directions we may have more meaningful insights.\n",
    "\n",
    "In general:\n",
    "- From April to September, more crashes during daytime than night time\n",
    "- While from mid-autumn to early Spring, it is the opposite. This does make sense since longer night time in winter. "
   ]
  },
  {
   "cell_type": "markdown",
   "metadata": {},
   "source": [
    "# Export to HTML"
   ]
  },
  {
   "cell_type": "code",
   "execution_count": 18,
   "metadata": {},
   "outputs": [
    {
     "name": "stderr",
     "output_type": "stream",
     "text": [
      "[NbConvertApp] Converting notebook yyan1_to_submit.ipynb to html\n",
      "[NbConvertApp] Writing 954752 bytes to yyan1_to_submit.html\n"
     ]
    },
    {
     "data": {
      "text/plain": [
       "0"
      ]
     },
     "execution_count": 18,
     "metadata": {},
     "output_type": "execute_result"
    }
   ],
   "source": [
    "os.system('jupyter nbconvert --to html yyan1_to_submit.ipynb')"
   ]
  },
  {
   "cell_type": "code",
   "execution_count": null,
   "metadata": {},
   "outputs": [],
   "source": []
  }
 ],
 "metadata": {
  "kernelspec": {
   "display_name": "Python 3 (ipykernel)",
   "language": "python",
   "name": "python3"
  },
  "language_info": {
   "codemirror_mode": {
    "name": "ipython",
    "version": 3
   },
   "file_extension": ".py",
   "mimetype": "text/x-python",
   "name": "python",
   "nbconvert_exporter": "python",
   "pygments_lexer": "ipython3",
   "version": "3.8.10"
  }
 },
 "nbformat": 4,
 "nbformat_minor": 4
}
