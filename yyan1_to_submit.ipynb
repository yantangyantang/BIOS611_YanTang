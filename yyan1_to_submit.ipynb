{
 "cells": [
  {
   "cell_type": "markdown",
   "metadata": {},
   "source": [
    "# Crashes Involving Cyclists in Raleigh"
   ]
  },
  {
   "cell_type": "markdown",
   "metadata": {},
   "source": [
    "## Why this topic?"
   ]
  },
  {
   "cell_type": "markdown",
   "metadata": {},
   "source": [
    "This topic was chosen because I enjoy riding bicycle a lot. However Chapel Hill seems to be more hilly and I usually visit Raleigh on weekend so this came up to my mind to find out whether it would be a good idea to do bike riding in Raleigh. As we would have assumed, when a crash occurs between a vehicle and a bike, it’s the cyclist who is most likely to be injured. Therefore, it’s only natural to want to get a clearer picture on facts about bicycle safety in Raleigh before putting action into it. Also I’m curious about the possible correlation between sun glares and the likelihood of cyclist crash occurrence."
   ]
  },
  {
   "cell_type": "markdown",
   "metadata": {},
   "source": [
    "## About this dataset"
   ]
  },
  {
   "cell_type": "markdown",
   "metadata": {},
   "source": [
    "All the analysis are based on 'Dataset of Crashes Involving Cyclists' from Raleigh's Open Dataset.\n",
    "\n",
    "Dataset link: https://data-ral.opendata.arcgis.com/datasets/crashes-involving-cyclists/explore?location=35.797487%2C-78.624284%2C10.72\n",
    "\n",
    "Click on the above link to access ‘Crashes Involving Cyclists’ on Raleigh Open data website. Click on the ‘download’ button on the left then select download as ‘csv’ file.\n",
    "\n",
    "Columns used (column name/column):\n",
    "DateOfCrash/E, LocationRelationToRoad/G, TrafficControlType/V, Crash_Date_Day/AA, Crash_Date_DOW/AB, Crash_Date_Hour/AD, Crash_Date_Month_Num/AF, Crash_Date_Year/AG, killed/AN, type_a_injury/AO, type_b_injury/AP, type_c_injury/AQ, no_injury/AR, injury_unknown/AS, LocationLatitude/AT, LocationLongitude/AU"
   ]
  },
  {
   "cell_type": "markdown",
   "metadata": {},
   "source": [
    "## About the Data Analysis and Visualization"
   ]
  },
  {
   "cell_type": "markdown",
   "metadata": {},
   "source": [
    "This data-set only has partial data for year 2015 and year 2021, thus year 2015 and 2021 are excluded from analysis in this report due to incomplete coverage.\n",
    "All data analysis and visualization are conducted using Python."
   ]
  },
  {
   "cell_type": "markdown",
   "metadata": {},
   "source": [
    "## The expected outcomes"
   ]
  },
  {
   "cell_type": "markdown",
   "metadata": {},
   "source": [
    "1. Trend of Crash Occurrence in Raleigh over the years and what information could be inferred from the trend;\n",
    "\n",
    "2. Crash vs. Traffic Control Type - Is crash rate is relevant to traffic control type;\n",
    "\n",
    "3. Crash Severity & Injury Levels - How bad are the crashes involving cyclists in Raleigh? What are fatality rate and the injury levels?\n",
    "\n",
    "4. Crash Heat-map - Where do most of the crashes take place? What information could be inferred from the geographical locations；\n",
    "\n",
    "5. Crash vs. Time of the day - when do more crashes happen in the day and what can be inferred."
   ]
  },
  {
   "cell_type": "markdown",
   "metadata": {
    "tags": []
   },
   "source": [
    "## Analysis and Figures"
   ]
  },
  {
   "cell_type": "markdown",
   "metadata": {},
   "source": [
    "To do any data analyzing with Python the first step is to read the source data, data cleaning, data normalization, data analysis and data visualization.\n",
    "In this project, the following packages are used to support the above data processing phases:\n",
    "Pandas, Seaborn, Datetime, Folium, Matplotlib.pyplot, numpy, Astral and Astral.sun"
   ]
  },
  {
   "cell_type": "markdown",
   "metadata": {},
   "source": [
    "What does the data look like:"
   ]
  },
  {
   "cell_type": "code",
   "execution_count": 5,
   "metadata": {},
   "outputs": [
    {
     "data": {
      "text/html": [
       "<div>\n",
       "<style scoped>\n",
       "    .dataframe tbody tr th:only-of-type {\n",
       "        vertical-align: middle;\n",
       "    }\n",
       "\n",
       "    .dataframe tbody tr th {\n",
       "        vertical-align: top;\n",
       "    }\n",
       "\n",
       "    .dataframe thead th {\n",
       "        text-align: right;\n",
       "    }\n",
       "</style>\n",
       "<table border=\"1\" class=\"dataframe\">\n",
       "  <thead>\n",
       "    <tr style=\"text-align: right;\">\n",
       "      <th></th>\n",
       "      <th>X</th>\n",
       "      <th>Y</th>\n",
       "      <th>OBJECTID</th>\n",
       "      <th>key_crash</th>\n",
       "      <th>DateOfCrash</th>\n",
       "      <th>LocalUse</th>\n",
       "      <th>LocationRelationToRoad</th>\n",
       "      <th>LocationInNearIndicator</th>\n",
       "      <th>LocationCity</th>\n",
       "      <th>LocationCounty</th>\n",
       "      <th>...</th>\n",
       "      <th>other_person_type</th>\n",
       "      <th>unknown_person_type</th>\n",
       "      <th>killed</th>\n",
       "      <th>type_a_injury</th>\n",
       "      <th>type_b_injury</th>\n",
       "      <th>type_c_injury</th>\n",
       "      <th>no_injury</th>\n",
       "      <th>injury_unknown</th>\n",
       "      <th>LocationLatitude</th>\n",
       "      <th>LocationLongitude</th>\n",
       "    </tr>\n",
       "  </thead>\n",
       "  <tbody>\n",
       "    <tr>\n",
       "      <th>70</th>\n",
       "      <td>-78.6730</td>\n",
       "      <td>35.7912</td>\n",
       "      <td>24441</td>\n",
       "      <td>146665</td>\n",
       "      <td>2016/01/07 04:36:00+00</td>\n",
       "      <td>P16001025</td>\n",
       "      <td>On Roadway (Surface) / Off Roadway</td>\n",
       "      <td>In</td>\n",
       "      <td>RALEIGH</td>\n",
       "      <td>Wake</td>\n",
       "      <td>...</td>\n",
       "      <td>0.0</td>\n",
       "      <td>0</td>\n",
       "      <td>0.0</td>\n",
       "      <td>0.0</td>\n",
       "      <td>0</td>\n",
       "      <td>1</td>\n",
       "      <td>1</td>\n",
       "      <td>0</td>\n",
       "      <td>35.7912</td>\n",
       "      <td>-78.6730</td>\n",
       "    </tr>\n",
       "    <tr>\n",
       "      <th>71</th>\n",
       "      <td>-78.6717</td>\n",
       "      <td>35.7886</td>\n",
       "      <td>24443</td>\n",
       "      <td>146667</td>\n",
       "      <td>2016/01/07 06:20:00+00</td>\n",
       "      <td>P16001054</td>\n",
       "      <td>On Roadway (Surface) / Off Roadway</td>\n",
       "      <td>In</td>\n",
       "      <td>RALEIGH</td>\n",
       "      <td>Wake</td>\n",
       "      <td>...</td>\n",
       "      <td>0.0</td>\n",
       "      <td>0</td>\n",
       "      <td>0.0</td>\n",
       "      <td>0.0</td>\n",
       "      <td>0</td>\n",
       "      <td>0</td>\n",
       "      <td>2</td>\n",
       "      <td>0</td>\n",
       "      <td>35.7886</td>\n",
       "      <td>-78.6717</td>\n",
       "    </tr>\n",
       "    <tr>\n",
       "      <th>72</th>\n",
       "      <td>-78.6706</td>\n",
       "      <td>35.7883</td>\n",
       "      <td>24672</td>\n",
       "      <td>146903</td>\n",
       "      <td>2016/01/11 00:01:00+00</td>\n",
       "      <td>P16001748</td>\n",
       "      <td>On Roadway (Surface) / Off Roadway</td>\n",
       "      <td>In</td>\n",
       "      <td>RALEIGH</td>\n",
       "      <td>Wake</td>\n",
       "      <td>...</td>\n",
       "      <td>0.0</td>\n",
       "      <td>0</td>\n",
       "      <td>0.0</td>\n",
       "      <td>0.0</td>\n",
       "      <td>0</td>\n",
       "      <td>0</td>\n",
       "      <td>3</td>\n",
       "      <td>0</td>\n",
       "      <td>35.7883</td>\n",
       "      <td>-78.6706</td>\n",
       "    </tr>\n",
       "    <tr>\n",
       "      <th>73</th>\n",
       "      <td>-78.6417</td>\n",
       "      <td>35.7805</td>\n",
       "      <td>24893</td>\n",
       "      <td>147125</td>\n",
       "      <td>2016/01/14 03:18:00+00</td>\n",
       "      <td>P16002347</td>\n",
       "      <td>On Roadway (Surface) / Off Roadway</td>\n",
       "      <td>In</td>\n",
       "      <td>RALEIGH</td>\n",
       "      <td>Wake</td>\n",
       "      <td>...</td>\n",
       "      <td>0.0</td>\n",
       "      <td>0</td>\n",
       "      <td>0.0</td>\n",
       "      <td>0.0</td>\n",
       "      <td>0</td>\n",
       "      <td>1</td>\n",
       "      <td>1</td>\n",
       "      <td>0</td>\n",
       "      <td>35.7805</td>\n",
       "      <td>-78.6417</td>\n",
       "    </tr>\n",
       "    <tr>\n",
       "      <th>74</th>\n",
       "      <td>-78.6872</td>\n",
       "      <td>35.7843</td>\n",
       "      <td>25892</td>\n",
       "      <td>148133</td>\n",
       "      <td>2016/01/30 21:15:00+00</td>\n",
       "      <td>P16005326</td>\n",
       "      <td>Outside Trafficway</td>\n",
       "      <td>In</td>\n",
       "      <td>RALEIGH</td>\n",
       "      <td>Wake</td>\n",
       "      <td>...</td>\n",
       "      <td>0.0</td>\n",
       "      <td>0</td>\n",
       "      <td>0.0</td>\n",
       "      <td>0.0</td>\n",
       "      <td>0</td>\n",
       "      <td>0</td>\n",
       "      <td>2</td>\n",
       "      <td>0</td>\n",
       "      <td>35.7843</td>\n",
       "      <td>-78.6872</td>\n",
       "    </tr>\n",
       "  </tbody>\n",
       "</table>\n",
       "<p>5 rows × 47 columns</p>\n",
       "</div>"
      ],
      "text/plain": [
       "          X        Y  OBJECTID  key_crash             DateOfCrash   LocalUse  \\\n",
       "70 -78.6730  35.7912     24441     146665  2016/01/07 04:36:00+00  P16001025   \n",
       "71 -78.6717  35.7886     24443     146667  2016/01/07 06:20:00+00  P16001054   \n",
       "72 -78.6706  35.7883     24672     146903  2016/01/11 00:01:00+00  P16001748   \n",
       "73 -78.6417  35.7805     24893     147125  2016/01/14 03:18:00+00  P16002347   \n",
       "74 -78.6872  35.7843     25892     148133  2016/01/30 21:15:00+00  P16005326   \n",
       "\n",
       "                LocationRelationToRoad LocationInNearIndicator LocationCity  \\\n",
       "70  On Roadway (Surface) / Off Roadway                      In      RALEIGH   \n",
       "71  On Roadway (Surface) / Off Roadway                      In      RALEIGH   \n",
       "72  On Roadway (Surface) / Off Roadway                      In      RALEIGH   \n",
       "73  On Roadway (Surface) / Off Roadway                      In      RALEIGH   \n",
       "74                  Outside Trafficway                      In      RALEIGH   \n",
       "\n",
       "   LocationCounty  ... other_person_type  unknown_person_type killed  \\\n",
       "70           Wake  ...               0.0                    0    0.0   \n",
       "71           Wake  ...               0.0                    0    0.0   \n",
       "72           Wake  ...               0.0                    0    0.0   \n",
       "73           Wake  ...               0.0                    0    0.0   \n",
       "74           Wake  ...               0.0                    0    0.0   \n",
       "\n",
       "   type_a_injury type_b_injury type_c_injury no_injury injury_unknown  \\\n",
       "70           0.0             0             1         1              0   \n",
       "71           0.0             0             0         2              0   \n",
       "72           0.0             0             0         3              0   \n",
       "73           0.0             0             1         1              0   \n",
       "74           0.0             0             0         2              0   \n",
       "\n",
       "   LocationLatitude LocationLongitude  \n",
       "70          35.7912          -78.6730  \n",
       "71          35.7886          -78.6717  \n",
       "72          35.7883          -78.6706  \n",
       "73          35.7805          -78.6417  \n",
       "74          35.7843          -78.6872  \n",
       "\n",
       "[5 rows x 47 columns]"
      ]
     },
     "execution_count": 5,
     "metadata": {},
     "output_type": "execute_result"
    }
   ],
   "source": [
    "import pandas as pd\n",
    "\n",
    "Crash = pd.read_csv('Crashes_Involving_Cyclists.csv')\n",
    "pd.reset_option(\"max_columns\", 55)\n",
    "Crash_cleaned = Crash[(Crash['Crash_Date_Year'] != 2015) & (Crash['Crash_Date_Year'] != 2021)]\n",
    "Crash_cleaned.head()"
   ]
  },
  {
   "cell_type": "markdown",
   "metadata": {},
   "source": [
    "### 1. Crash occurrence trend per month, compared by year"
   ]
  },
  {
   "cell_type": "markdown",
   "metadata": {},
   "source": [
    "The idea is to have a line plot that indicates the trend of the crashes over the years (2016-2020), and it also shows the monthly figures.\n",
    "To make the plot more reader-friendly, the color of the lines are set to be from light color to dark color based on year. \n",
    "Outcomes:\n",
    "- The overall trend of crash concurrence went downhill on a yearly basis \n",
    "- Autumn seems to be the most dangerous season for cycling since the number of crashes peaked in September and October for most of the years. \n",
    "- There’s this significant drop on count of crashes with the darkest color line, representing 2020, which could be explained by the outburst of the pandemic.\n",
    "\n",
    "![Trend](figures/trend.png)"
   ]
  },
  {
   "cell_type": "markdown",
   "metadata": {},
   "source": [
    "### 2. Crashes vs. Traffic Control Type"
   ]
  },
  {
   "cell_type": "markdown",
   "metadata": {},
   "source": [
    "2.1 Crash occurrence at different traffic control type\n",
    "The purpose of analyzing traffic control type is to compare the likelihood of crashes at each type of Traffic control intersections.\n",
    "The result is assumable: intersection with no control present seems to be more dangerous than the others. \n",
    "However, there’s one limitation of the data-set which makes it difficult jump to the conclusion - missing information about the total umber of each Control type intersection in Raleigh. The result is most ideally concluded by the percentage, i.e., comparison of each traffic control type on (count of crashes at each traffic control type)/(number of each traffic control type)\n",
    "\n",
    "![traffic_control_type](figures/traffic_control_type.png)"
   ]
  },
  {
   "cell_type": "markdown",
   "metadata": {},
   "source": [
    "2.2 Distribution of Accumulated contribution per Traffic Control Type\n",
    "Analysis: \n",
    "- For the year of 2016 to 2019, we see that biggest distributors matches with previous graph\n",
    "- Year 2020, an increase in all other distributors, and a drop with ‘No control present’\n",
    "Since in year 2020, total crash number dropped tremendously, one hypothesis would be in 2020 the city has set up signals or signs at many intersections which used to be ‘No control present’ to improve the traffic safety at these intersections\n",
    "\n",
    "![contribution_of_control_types](figures/contribution_of_control_types.png)"
   ]
  },
  {
   "cell_type": "markdown",
   "metadata": {},
   "source": [
    "### 3. Crash Severity & Injury Levels"
   ]
  },
  {
   "cell_type": "markdown",
   "metadata": {},
   "source": [
    "Crash Severity measurement is greatly dependent on injury levels\n",
    "Injury is categorized as 5 levels: Killed; Type a Injury (severely injured); Type b Injury (injured); Type c Injury (mild injury); No Injury; Injury Unknown;\n",
    "With only 3 killed cases through 2016 to 2020, the fatality rate is extremely low (0.7%). Also count of severely injured is pretty little (4.2%). No one was injured in almost half of the crashes. Based on these data, it’s reasonable to believe that, to some extend, Raleigh is a friendly and safe city for bikers.\n",
    "\n",
    "![injury_level](figures/injury_level.png)"
   ]
  },
  {
   "cell_type": "markdown",
   "metadata": {},
   "source": [
    "### 4. Crashes vs. Location to Road"
   ]
  },
  {
   "cell_type": "markdown",
   "metadata": {},
   "source": [
    "Most accidents happen on or off Roadway and the occurrence of such kind is predictable"
   ]
  },
  {
   "cell_type": "markdown",
   "metadata": {},
   "source": [
    "#### Limitation of the data-set"
   ]
  },
  {
   "cell_type": "markdown",
   "metadata": {},
   "source": [
    "On Roadway and Off Roadway are combined together, there would for sure be more insight if these 2 are separated as different categories.\n",
    "\n",
    "![location_to_road](figures/location_to_road.png)"
   ]
  },
  {
   "cell_type": "markdown",
   "metadata": {},
   "source": [
    "### 5. Crash vs. Time"
   ]
  },
  {
   "cell_type": "markdown",
   "metadata": {},
   "source": [
    "One day is divided into 4 time periods: daytime, dawn, dusk, nighttime. Let's explore which period there’s more crashes and whether there’s any pattern to it.\n",
    "\n",
    "In general:\n",
    "- From April to September, more crashes during daytime than night time\n",
    "- While from mid-autumn to early Spring, it is the opposite. This does make sense since longer night time in winter.\n",
    "\n",
    "![crash_vs_time](figures/crash_vs_time.png)"
   ]
  }
 ],
 "metadata": {
  "kernelspec": {
   "display_name": "Python 3 (ipykernel)",
   "language": "python",
   "name": "python3"
  },
  "language_info": {
   "codemirror_mode": {
    "name": "ipython",
    "version": 3
   },
   "file_extension": ".py",
   "mimetype": "text/x-python",
   "name": "python",
   "nbconvert_exporter": "python",
   "pygments_lexer": "ipython3",
   "version": "3.8.10"
  }
 },
 "nbformat": 4,
 "nbformat_minor": 4
}
